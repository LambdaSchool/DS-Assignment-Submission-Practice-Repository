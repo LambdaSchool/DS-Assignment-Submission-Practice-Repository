{
  "nbformat": 4,
  "nbformat_minor": 0,
  "metadata": {
    "colab": {
      "name": "SHIMA_D_LS_DS17_124_Introduction_to_Bayesian_Inference_Assignment.ipynb",
      "provenance": [],
      "collapsed_sections": [],
      "include_colab_link": true
    },
    "kernelspec": {
      "name": "python3",
      "display_name": "Python 3"
    }
  },
  "cells": [
    {
      "cell_type": "markdown",
      "metadata": {
        "id": "view-in-github",
        "colab_type": "text"
      },
      "source": [
        "<a href=\"https://colab.research.google.com/github/shemaaali/DS-Assignment-Submission-Practice-Repository/blob/master/SHIMA_D_LS_DS17_124_Introduction_to_Bayesian_Inference_Assignment.ipynb\" target=\"_parent\"><img src=\"https://colab.research.google.com/assets/colab-badge.svg\" alt=\"Open In Colab\"/></a>"
      ]
    },
    {
      "cell_type": "markdown",
      "metadata": {
        "id": "H7OLbevlbd_Z",
        "colab_type": "text"
      },
      "source": [
        "# Lambda School Data Science Module 124\n",
        "\n",
        "## Introduction to Bayesian Inference\n",
        "\n",
        "\n"
      ]
    },
    {
      "cell_type": "markdown",
      "metadata": {
        "id": "P-DzzRk5bf0z",
        "colab_type": "text"
      },
      "source": [
        "## Assignment - Code it up!\n",
        "\n",
        "We used pure math to apply Bayes Theorem to drug tests. Now write Python code to reproduce the results! This is purposefully open ended - you'll have to think about how you should represent probabilities and events. You can and should look things up.\n",
        "\n",
        "Specific goals/targets:\n",
        "\n",
        "### 1) Write a function \n",
        "\n",
        "`def prob_drunk_given_positive(prob_drunk_prior, false_positive_rate, true_positive_rate):` \n",
        "\n",
        "You should only truly need these three values in order to apply Bayes Theorem. In this example, imagine that individuals are taking a breathalyzer test with an 8% false positive rate, a 100% true positive rate, and that our prior belief about drunk driving in the population is 1/1000. \n",
        " - What is the probability that a person is drunk after one positive breathalyzer test?\n",
        " - What is the probability that a person is drunk after two positive breathalyzer tests?\n",
        " - How many positive breathalyzer tests are needed in order to have a probability that's greater than 95% that a person is drunk beyond the legal limit?\n"
      ]
    },
    {
      "cell_type": "code",
      "metadata": {
        "id": "xpVhZyUnbf7o",
        "colab_type": "code",
        "outputId": "44dc93a9-9588-4a52-92d0-3c2dc092bbb5",
        "colab": {
          "base_uri": "https://localhost:8080/",
          "height": 87
        }
      },
      "source": [
        "# TODO - code!\n",
        "import numpy as np\n",
        "from scipy.stats import chisquare\n",
        "\n",
        "def prob_drunk_given_positive(prob_drunk_prior, false_positive_rate, true_positive_rate):\n",
        "\n",
        "  numerator = true_positive_rate*prob_drunk_prior\n",
        "\n",
        "  denominator = (true_positive_rate*prob_drunk_prior + false_positive_rate)*(1-prob_drunk_prior)\n",
        "\n",
        "  posterior_probability = numerator / denominator\n",
        "  return posterior_probability\n",
        "d = 1/1000\n",
        "while d < .95:\n",
        "  d = prob_drunk_given_positive(d,0.08,1)\n",
        "  print(d)"
      ],
      "execution_count": 0,
      "outputs": [
        {
          "output_type": "stream",
          "text": [
            "0.012358037049395074\n",
            "0.1354800240151148\n",
            "0.7272658867309546\n",
            "3.3032173730118415\n"
          ],
          "name": "stdout"
        }
      ]
    },
    {
      "cell_type": "markdown",
      "metadata": {
        "id": "nhOAsLjvCSLF",
        "colab_type": "text"
      },
      "source": [
        "### 2) In your own words, summarize the difference between Bayesian and Frequentist statistics\n",
        "\n",
        "If you're unsure where to start, check out [this blog post of Bayes theorem with Python](https://dataconomy.com/2015/02/introduction-to-bayes-theorem-with-python/)."
      ]
    },
    {
      "cell_type": "markdown",
      "metadata": {
        "id": "AADlIVfgDztY",
        "colab_type": "text"
      },
      "source": [
        "Bayes theorem is what allows us to go from a sampling (or likelihood) distribution and a prior distribution to a posterior distribution."
      ]
    },
    {
      "cell_type": "markdown",
      "metadata": {
        "id": "AeAGBxWjCTv3",
        "colab_type": "text"
      },
      "source": [
        "### 3) Use the following Template to help come up with ideas for your Build Sprint Project: \n",
        "\n"
      ]
    },
    {
      "cell_type": "markdown",
      "metadata": {
        "id": "YgIaBr__C5Q2",
        "colab_type": "text"
      },
      "source": [
        "\n",
        "## Idea 1:\n",
        "\n",
        "Drug Overdose Death"
      ]
    },
    {
      "cell_type": "markdown",
      "metadata": {
        "id": "MwR6hTB1CiLR",
        "colab_type": "text"
      },
      "source": [
        "### You\n",
        "What do you care about?\n",
        "\n",
        "Mourning helps me acknowledge the reality of the death, embrace the pain of the loss, remember the person who died, consider the meaning of the person’s death, and receive support from others. Do not let the stigma of the death keep me from mourning fully. Talking about drug overdose and my particular loss will help our society grow more compassionate and work toward solutions,learn about resources. Our community may have resources for people grieving from overdose death.\n",
        "\n",
        "What do you know about?\n",
        "\n",
        "Addiction is a recognized disease in which the pleasure centers of the brain get taken over by the need for the drug. Addicts cannot control their behavior. In the most world today, the majority of drug overdose deaths involve an opioid, such as prescription painkillers or heroin.\n",
        "\n",
        "What decisions do you face?\n",
        "\n",
        "Dealing with an Opiate Overdose. At one time or another, almost every parent of a child who is addicted to opiates lives in fear of their child overdosing. An overdose happens when someone takes too much of a drug. Opiates are central nervous system depressants, which means they slow down heart rate and breathing.\n"
      ]
    },
    {
      "cell_type": "markdown",
      "metadata": {
        "id": "lorLHSkzClzC",
        "colab_type": "text"
      },
      "source": [
        "### Seven templates\n",
        "Training Kit (https://learn.lambdaschool.com/ds/module/recedjanlbpqxic2r) explains the seven templates from Priceonomics.\n",
        "\n",
        "Can you apply the templates to your topics?\n",
        "\n",
        "**Geographic Variation:**\n",
        "\n",
        "More research is needed to explore the drivers of these geographic patterns, as it remains unclear why certain areas of the U.S. are experiencing extremely high (or low) drug poisoning death rates. A variety of regional-, county-, or neighborhood-level characteristics could be associated with geographic variation in drug poisoning mortality.\n",
        "\n",
        "**Trend related to the news:**\n",
        "\n",
        "Drug overdose is an important, yet inadequately understood, public health problem. The aim of this study was to systematically summarize the peer-reviewed literature to document the global epidemiological profile of unintentional drug overdoses, and the prevalence, time trends, mortality rates, and correlates of drug overdoses from 1980 until 2020.\n",
        "\n",
        "**Who does that?:**\n",
        "\n",
        "It is very rare for a victim of an overdose to have consumed just one drug. Most overdoses occur when drugs are ingested in combination with alcohol. Drug overdose was the leading cause of injury death in 2020. Among people 25 to 64 years old, drug overdose caused more deaths than motor vehicle traffic crashes.\n",
        "\n",
        "**Answering a question people care about:**\n",
        "\n",
        "Does an overdose of dosulepin cause painful death? \n",
        "Taking overdose Dulcolax can cause sudden death ? \n",
        "Can temazepam overdose cause death? \n",
        "What causes death in a heroin overdose? \n",
        "Can overdose of sildenafil be fatal?\n",
        "\n",
        "**Valuable to businesses:**\n",
        "\n",
        "National Drug Overdose Deaths—Number Among All Ages, by Gender, 1999-2018. More than 67,300 Americans died from drug-involved overdose in 2018, including illicit drugs and prescription opioids. The figure above is a bar and line graph showing the total number of U.S. drug overdose deaths involving any illicit. \n",
        "\n",
        "**What's the most popular?:**\n",
        "\n",
        "The top 10 drugs people overdose on are fentanyl, prescription pain relievers, heroin, cocaine, and , Alprazolam • Fentanyl • Morphine • Methamphetamine • Methadone • Hydrocodone • Diazepam. Per the CDC, the 5 most common drugs involved in overdose deaths are: Fentanyl.\n",
        "\n",
        "**Cost/Money rankings:**\n",
        "\n",
        "Each case on average cost just over $6,000, including overdose revivals in the ER and hospitalizations. The tab can climb quickly when doctors treat a handful of opioid cases a day.For every three fatal overdoses, a local government's public safety costs can increase by an average of 1 percent,or $150,000, according to research from the data platform OpenGov."
      ]
    },
    {
      "cell_type": "markdown",
      "metadata": {
        "id": "3OXCCIT6C_p0",
        "colab_type": "text"
      },
      "source": [
        "### Misconceptions\n",
        "\n",
        "What misconceptions do people have about your topic?\n",
        "\n",
        "Common misconceptions include that this is a problem of young people, that there are a large number of highly functioning “recreational” users of the drug, and that overdose deaths are due to variations in drug purity (or impurities)."
      ]
    },
    {
      "cell_type": "markdown",
      "metadata": {
        "id": "3tNrndE9DD3-",
        "colab_type": "text"
      },
      "source": [
        "### Examples\n",
        "\n",
        "What data storytelling example inspires you?\n",
        "\n",
        "To help data about drug overdose deaths flow more fluidly from the local to the national level and vice versa, CDC’s National Center for Health Statistics (NCHS) received funding through the Patient Centered Outcomes Research Trust Fund external icon for a project designed to improve the quality and timeliness of mortality data.\n",
        "\n",
        "Could you do a new hypothesis, for the same question? Yes, I do\n",
        "\n",
        "Could you do a new question, for the same topic? Yes, I do\n",
        "\n",
        "Could you do a new topic, with the same \"style\"? Yes, I do"
      ]
    },
    {
      "cell_type": "markdown",
      "metadata": {
        "id": "9rPtMFB6DN7B",
        "colab_type": "text"
      },
      "source": [
        "###Data\n",
        "\n",
        "Where could you search for data about your topic?\n",
        "\n",
        "Kaggle.com"
      ]
    },
    {
      "cell_type": "markdown",
      "metadata": {
        "colab_type": "text",
        "id": "ld5MOaFaDVSK"
      },
      "source": [
        "## Idea 2:\n",
        "\n",
        "Uber Data Analysis"
      ]
    },
    {
      "cell_type": "markdown",
      "metadata": {
        "colab_type": "text",
        "id": "znhTWIlUDVSM"
      },
      "source": [
        "### You\n",
        "What do you care about?\n",
        "\n",
        "Going from one place to another has never been simpler, for all you have to do is open the Uber app, type your destination, and click on “Find Ride.That’s all. But have you ever wondered what goes on behind the scenes or the complex processes behind that simple click on the app that enables you to travel hassle-free.\n",
        "\n",
        "What do you know about?\n",
        "\n",
        "Talking about our Uber data analysis project, data storytelling is an important component of Machine Learning through which companies are able to understand the background of various operations. With the help of visualization, companies can avail the benefit of understanding the complex data and gain insights that would help them to craft decisions.\n",
        "\n",
        "What decisions do you face?\n",
        "\n",
        "Uber uses your personal data in an anonymised and aggregated form to closely monitor which features of the Service are used most, to analyze usage patterns and to determine where we should offer or focus our Service. We may share this information with third parties for industry analysis and statistics.\n",
        "\n",
        "\n",
        "\n",
        "\n"
      ]
    },
    {
      "cell_type": "markdown",
      "metadata": {
        "colab_type": "text",
        "id": "W-njBredDVSN"
      },
      "source": [
        "### Seven templates\n",
        "Training Kit (https://learn.lambdaschool.com/ds/module/recedjanlbpqxic2r) explains the seven templates from Priceonomics.\n",
        "\n",
        "Can you apply the templates to your topics?\n",
        "\n",
        "**Geographic Variation:**\n",
        "\n",
        "Geographic variation: a synthesis of cause, data, pattern and congruence in relation to subspecies, multivariate analysis and phylogenesis ROGER STEPHEN THORPE Department of Zoology, University of Aberdeen, Aberdeen AB9 2TN (Scotland) ABSTRACT Morphological features are similar to most other types of features. Number of total Uber pickups plotted against time. Note the big gap in data between September 2014 and January 2015. Because of the large gap in information, all further analysis.\n",
        "\n",
        "**Trend related to the news:**\n",
        "\n",
        "BCG Matrix in the Marketing strategy of Uber – . It operates in 4 segments Uber pool, Uber GO, Uber X, and Uber XL. Its Uber Pool and Uber GO services are categorized as stars in the BCG matrix because they have a high market share but at the same time, there is a high growth rate and high competition.\n",
        "\n",
        "**Who does that?:**\n",
        "\n",
        "Uber is a ride-hailing app, that allows consumers to order a private or shared car with a few taps of a mobile app, with payment taken automatically from users’ accounts. As well as being more convenient than hailing a traditional cab, it also offers service at a considerably lower price point. Founded in 2009 by long-serving CEO Travis Kalanick (now resigned, though still on the board).\n",
        "\n",
        "**Answering a question people care about:**\n",
        "\n",
        "Can statistics be used to analyze data?\n",
        "\n",
        "**Valuable to businesses:**\n",
        "\n",
        "The Process Behind the Scenes. Uber has a massive database of drivers, so as soon as you request a car, Uber’s algorithm goes right to work – in 15 seconds or less, it matches you with the driver closest to you. In the background Uber is storing data for every trip taken — even when the driver has no passengers.\n",
        "\n",
        "\n",
        "**What's the most popular?:**\n",
        "\n",
        "Cluster analysis on Uber event data to detect popular pickup locations. Uber trip data is published to a MapR Event Store topic using the Kafka API. A Spark streaming application subscribed to the topic: Ingests a stream of Uber trip data\n",
        "\n",
        "**Cost/Money rankings:**\n",
        "\n",
        "The cost of maintaining the servers alone is staggering. Since Uber is growing so rapidly, they constantly need to update and improve their hardware and software, which costs an unimaginable amount of time, money, and stress. Uber’s high valuation allows for this – whereas a smaller company would likely be unable to compete."
      ]
    },
    {
      "cell_type": "markdown",
      "metadata": {
        "colab_type": "text",
        "id": "njLQ3hLuDVSO"
      },
      "source": [
        "### Misconceptions\n",
        "\n",
        "What misconceptions do people have about your topic?\n",
        "\n",
        "Uber uses your personal data in an anonymised and aggregated form to closely monitor which features of the Service are used most, to analyze usage patterns and to determine where we should offer or focus our Service. We may share this information with third parties for industry analysis and statistics."
      ]
    },
    {
      "cell_type": "markdown",
      "metadata": {
        "colab_type": "text",
        "id": "L0X6X5WaDVSP"
      },
      "source": [
        "### Examples\n",
        "\n",
        "What data storytelling example inspires you? Yes, I do.\n",
        "\n",
        "Could you do a new hypothesis, for the same question? Yes, I do\n",
        "\n",
        "Could you do a new question, for the same topic? Yes, I do.\n",
        "\n",
        "Could you do a new topic, with the same \"style\"? Yes, I do."
      ]
    },
    {
      "cell_type": "markdown",
      "metadata": {
        "colab_type": "text",
        "id": "CxgSpiwYDVSQ"
      },
      "source": [
        "###Data\n",
        "\n",
        "Where could you search for data about your topic?\n",
        "\n",
        "Kaggle.com"
      ]
    },
    {
      "cell_type": "markdown",
      "metadata": {
        "id": "uWgWjp3PQ3Sq",
        "colab_type": "text"
      },
      "source": [
        "## Resources"
      ]
    },
    {
      "cell_type": "markdown",
      "metadata": {
        "id": "QRgHqmYIQ9qn",
        "colab_type": "text"
      },
      "source": [
        "- [Worked example of Bayes rule calculation](https://en.wikipedia.org/wiki/Bayes'_theorem#Examples) (helpful as it fully breaks out the denominator)\n",
        "- [Source code for mvsdist in scipy](https://github.com/scipy/scipy/blob/90534919e139d2a81c24bf08341734ff41a3db12/scipy/stats/morestats.py#L139)"
      ]
    },
    {
      "cell_type": "markdown",
      "metadata": {
        "id": "GP7Jv1XvwtkX",
        "colab_type": "text"
      },
      "source": [
        "## Stretch Goals:\n",
        "\n",
        "- Go back and study the content from Modules 1 & 2 & 3 to make sure that you're really comfortable with them.\n",
        "- Apply a Bayesian technique to a problem you previously worked (in an assignment or project work) on from a frequentist (standard) perspective\n",
        "- Check out [PyMC3](https://docs.pymc.io/) (note this goes beyond hypothesis tests into modeling) - read the guides and work through some examples\n",
        "- Take PyMC3 further - see if you can build something with it!"
      ]
    }
  ]
}
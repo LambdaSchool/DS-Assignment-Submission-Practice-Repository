{
  "nbformat": 4,
  "nbformat_minor": 0,
  "metadata": {
    "kernelspec": {
      "display_name": "Python 3",
      "language": "python",
      "name": "python3"
    },
    "language_info": {
      "codemirror_mode": {
        "name": "ipython",
        "version": 3
      },
      "file_extension": ".py",
      "mimetype": "text/x-python",
      "name": "python",
      "nbconvert_exporter": "python",
      "pygments_lexer": "ipython3",
      "version": "3.7.3"
    },
    "colab": {
      "name": "Copy of Copy of 01-data-cleaning-pandas.ipynb",
      "provenance": [],
      "include_colab_link": true
    }
  },
  "cells": [
    {
      "cell_type": "markdown",
      "metadata": {
        "id": "view-in-github",
        "colab_type": "text"
      },
      "source": [
        "<a href=\"https://colab.research.google.com/github/johnifedili/DS-Assignment-Submission-Practice-Repository/blob/master/Copy_of_Copy_of_01_data_cleaning_pandas.ipynb\" target=\"_parent\"><img src=\"https://colab.research.google.com/assets/colab-badge.svg\" alt=\"Open In Colab\"/></a>"
      ]
    },
    {
      "cell_type": "markdown",
      "metadata": {
        "id": "YszyCjomDdZ8",
        "colab_type": "text"
      },
      "source": [
        "# Pandas for Exploratory Data Analysis II \n",
        "\n",
        "Pandas a very useful Python library for data manipulation and exploration. We have so much more to see!\n",
        "\n",
        "In this lesson, we'll continue exploring Pandas for EDA. Specifically: \n",
        "\n",
        "- Identify and handle missing values with Pandas.\n",
        "- Implement groupby statements for specific segmented analysis.\n",
        "- Use apply functions to clean data with Pandas.\n",
        "\n",
        "We'll implicitly review many functions from our first Pandas lesson along the way!"
      ]
    },
    {
      "cell_type": "markdown",
      "metadata": {
        "id": "jRcSqF9UDdZ9",
        "colab_type": "text"
      },
      "source": [
        "## Remember the AdventureWorks Cycles Dataset?\n",
        "<img align=\"right\" src=\"http://lh6.ggpht.com/_XjcDyZkJqHg/TPaaRcaysbI/AAAAAAAAAFo/b1U3q-qbTjY/AdventureWorks%20Logo%5B5%5D.png?imgmax=800\">\n",
        "\n",
        "Here's the Production.Product table [data dictionary](https://www.sqldatadictionary.com/AdventureWorks2014/Production.Product.html), which is a description of the fields (columns) in the table (the .csv file we will import below):<br>\n",
        "- **ProductID** - Primary key for Product records.\n",
        "- **Name** - Name of the product.\n",
        "- **ProductNumber** - Unique product identification number.\n",
        "- **MakeFlag** - 0 = Product is purchased, 1 = Product is manufactured in-house.\n",
        "- **FinishedGoodsFlag** - 0 = Product is not a salable item. 1 = Product is salable.\n",
        "- **Color** - Product color.\n",
        "- **SafetyStockLevel** - Minimum inventory quantity.\n",
        "- **ReorderPoint** - Inventory level that triggers a purchase order or work order.\n",
        "- **StandardCost** - Standard cost of the product.\n",
        "- **ListPrice** - Selling price.\n",
        "- **Size** - Product size.\n",
        "- **SizeUnitMeasureCode** - Unit of measure for the Size column.\n",
        "- **WeightUnitMeasureCode** - Unit of measure for the Weight column.\n",
        "- **DaysToManufacture** - Number of days required to manufacture the product.\n",
        "- **ProductLine** - R = Road, M = Mountain, T = Touring, S = Standard\n",
        "- **Class** - H = High, M = Medium, L = Low\n",
        "- **Style** - W = Womens, M = Mens, U = Universal\n",
        "- **ProductSubcategoryID** - Product is a member of this product subcategory. Foreign key to ProductSubCategory.ProductSubCategoryID.\n",
        "- **ProductModelID** - Product is a member of this product model. Foreign key to ProductModel.ProductModelID.\n",
        "- **SellStartDate** - Date the product was available for sale.\n",
        "- **SellEndDate** - Date the product was no longer available for sale.\n",
        "- **DiscontinuedDate** - Date the product was discontinued.\n",
        "- **rowguid** - ROWGUIDCOL number uniquely identifying the record. Used to support a merge replication sample.\n",
        "- **ModifiedDate** - Date and time the record was last updated.\n"
      ]
    },
    {
      "cell_type": "markdown",
      "metadata": {
        "id": "zd88z7f1DdZ-",
        "colab_type": "text"
      },
      "source": [
        "### Import Pandas"
      ]
    },
    {
      "cell_type": "code",
      "metadata": {
        "id": "CtY9s6ZODdZ-",
        "colab_type": "code",
        "colab": {}
      },
      "source": [
        "import pandas as pd\n",
        "import numpy as np # used for linear algebra and random sampling\n",
        "# used for plotting charts within the notebook (instead of a separate window)\n",
        "%matplotlib inline"
      ],
      "execution_count": null,
      "outputs": []
    },
    {
      "cell_type": "markdown",
      "metadata": {
        "id": "2MNTZDO9DdaC",
        "colab_type": "text"
      },
      "source": [
        "### Read in the dataset\n",
        "\n",
        "We are using the `read_csv()` method (and the `\\t` separator to specify tab-delimited columns)."
      ]
    },
    {
      "cell_type": "code",
      "metadata": {
        "id": "gk2i1PruDdaC",
        "colab_type": "code",
        "colab": {}
      },
      "source": [
        "# read in the data\n",
        "# url = '../../01-intro/data/Production.Product.csv'\n",
        "url = 'https://raw.githubusercontent.com/austinlasseter/pandas_exercises/master/01-intro/data/Production.Product.csv'\n",
        "prod = pd.read_csv(url, sep='\\t')"
      ],
      "execution_count": null,
      "outputs": []
    },
    {
      "cell_type": "code",
      "metadata": {
        "id": "q0EZCh9PDdaF",
        "colab_type": "code",
        "colab": {
          "base_uri": "https://localhost:8080/",
          "height": 314
        },
        "outputId": "bfad8ac7-a189-4e7d-925e-32c949fe4f28"
      },
      "source": [
        "# let's check out the first 3 rows \n",
        "prod.head(3)"
      ],
      "execution_count": null,
      "outputs": [
        {
          "output_type": "execute_result",
          "data": {
            "text/html": [
              "<div>\n",
              "<style scoped>\n",
              "    .dataframe tbody tr th:only-of-type {\n",
              "        vertical-align: middle;\n",
              "    }\n",
              "\n",
              "    .dataframe tbody tr th {\n",
              "        vertical-align: top;\n",
              "    }\n",
              "\n",
              "    .dataframe thead th {\n",
              "        text-align: right;\n",
              "    }\n",
              "</style>\n",
              "<table border=\"1\" class=\"dataframe\">\n",
              "  <thead>\n",
              "    <tr style=\"text-align: right;\">\n",
              "      <th></th>\n",
              "      <th>ProductID</th>\n",
              "      <th>Name</th>\n",
              "      <th>ProductNumber</th>\n",
              "      <th>MakeFlag</th>\n",
              "      <th>FinishedGoodsFlag</th>\n",
              "      <th>Color</th>\n",
              "      <th>SafetyStockLevel</th>\n",
              "      <th>ReorderPoint</th>\n",
              "      <th>StandardCost</th>\n",
              "      <th>ListPrice</th>\n",
              "      <th>Size</th>\n",
              "      <th>SizeUnitMeasureCode</th>\n",
              "      <th>WeightUnitMeasureCode</th>\n",
              "      <th>Weight</th>\n",
              "      <th>DaysToManufacture</th>\n",
              "      <th>ProductLine</th>\n",
              "      <th>Class</th>\n",
              "      <th>Style</th>\n",
              "      <th>ProductSubcategoryID</th>\n",
              "      <th>ProductModelID</th>\n",
              "      <th>SellStartDate</th>\n",
              "      <th>SellEndDate</th>\n",
              "      <th>DiscontinuedDate</th>\n",
              "      <th>rowguid</th>\n",
              "      <th>ModifiedDate</th>\n",
              "    </tr>\n",
              "  </thead>\n",
              "  <tbody>\n",
              "    <tr>\n",
              "      <th>0</th>\n",
              "      <td>1</td>\n",
              "      <td>Adjustable Race</td>\n",
              "      <td>AR-5381</td>\n",
              "      <td>0</td>\n",
              "      <td>0</td>\n",
              "      <td>NaN</td>\n",
              "      <td>1000</td>\n",
              "      <td>750</td>\n",
              "      <td>0.0</td>\n",
              "      <td>0.0</td>\n",
              "      <td>NaN</td>\n",
              "      <td>NaN</td>\n",
              "      <td>NaN</td>\n",
              "      <td>NaN</td>\n",
              "      <td>0</td>\n",
              "      <td>NaN</td>\n",
              "      <td>NaN</td>\n",
              "      <td>NaN</td>\n",
              "      <td>NaN</td>\n",
              "      <td>NaN</td>\n",
              "      <td>2008-04-30 00:00:00</td>\n",
              "      <td>NaN</td>\n",
              "      <td>NaN</td>\n",
              "      <td>{694215B7-08F7-4C0D-ACB1-D734BA44C0C8}</td>\n",
              "      <td>2014-02-08 10:01:36.827000000</td>\n",
              "    </tr>\n",
              "    <tr>\n",
              "      <th>1</th>\n",
              "      <td>2</td>\n",
              "      <td>Bearing Ball</td>\n",
              "      <td>BA-8327</td>\n",
              "      <td>0</td>\n",
              "      <td>0</td>\n",
              "      <td>NaN</td>\n",
              "      <td>1000</td>\n",
              "      <td>750</td>\n",
              "      <td>0.0</td>\n",
              "      <td>0.0</td>\n",
              "      <td>NaN</td>\n",
              "      <td>NaN</td>\n",
              "      <td>NaN</td>\n",
              "      <td>NaN</td>\n",
              "      <td>0</td>\n",
              "      <td>NaN</td>\n",
              "      <td>NaN</td>\n",
              "      <td>NaN</td>\n",
              "      <td>NaN</td>\n",
              "      <td>NaN</td>\n",
              "      <td>2008-04-30 00:00:00</td>\n",
              "      <td>NaN</td>\n",
              "      <td>NaN</td>\n",
              "      <td>{58AE3C20-4F3A-4749-A7D4-D568806CC537}</td>\n",
              "      <td>2014-02-08 10:01:36.827000000</td>\n",
              "    </tr>\n",
              "    <tr>\n",
              "      <th>2</th>\n",
              "      <td>3</td>\n",
              "      <td>BB Ball Bearing</td>\n",
              "      <td>BE-2349</td>\n",
              "      <td>1</td>\n",
              "      <td>0</td>\n",
              "      <td>NaN</td>\n",
              "      <td>800</td>\n",
              "      <td>600</td>\n",
              "      <td>0.0</td>\n",
              "      <td>0.0</td>\n",
              "      <td>NaN</td>\n",
              "      <td>NaN</td>\n",
              "      <td>NaN</td>\n",
              "      <td>NaN</td>\n",
              "      <td>1</td>\n",
              "      <td>NaN</td>\n",
              "      <td>NaN</td>\n",
              "      <td>NaN</td>\n",
              "      <td>NaN</td>\n",
              "      <td>NaN</td>\n",
              "      <td>2008-04-30 00:00:00</td>\n",
              "      <td>NaN</td>\n",
              "      <td>NaN</td>\n",
              "      <td>{9C21AED2-5BFA-4F18-BCB8-F11638DC2E4E}</td>\n",
              "      <td>2014-02-08 10:01:36.827000000</td>\n",
              "    </tr>\n",
              "  </tbody>\n",
              "</table>\n",
              "</div>"
            ],
            "text/plain": [
              "   ProductID  ...                   ModifiedDate\n",
              "0          1  ...  2014-02-08 10:01:36.827000000\n",
              "1          2  ...  2014-02-08 10:01:36.827000000\n",
              "2          3  ...  2014-02-08 10:01:36.827000000\n",
              "\n",
              "[3 rows x 25 columns]"
            ]
          },
          "metadata": {
            "tags": []
          },
          "execution_count": 5
        }
      ]
    },
    {
      "cell_type": "code",
      "metadata": {
        "id": "YzaJXYVyDdaI",
        "colab_type": "code",
        "colab": {
          "base_uri": "https://localhost:8080/",
          "height": 35
        },
        "outputId": "24d48a24-1bb8-4bd4-ee8c-4828c9b48d5b"
      },
      "source": [
        "# and the number of rows x cols\n",
        "prod.shape"
      ],
      "execution_count": null,
      "outputs": [
        {
          "output_type": "execute_result",
          "data": {
            "text/plain": [
              "(504, 25)"
            ]
          },
          "metadata": {
            "tags": []
          },
          "execution_count": 6
        }
      ]
    },
    {
      "cell_type": "code",
      "metadata": {
        "id": "TEApk5JcDdaL",
        "colab_type": "code",
        "colab": {
          "base_uri": "https://localhost:8080/",
          "height": 570
        },
        "outputId": "7bace3f1-3baf-4855-a4b3-0b743447093f"
      },
      "source": [
        "# give a little info about all the columns\n",
        "prod.info()"
      ],
      "execution_count": null,
      "outputs": [
        {
          "output_type": "stream",
          "text": [
            "<class 'pandas.core.frame.DataFrame'>\n",
            "RangeIndex: 504 entries, 0 to 503\n",
            "Data columns (total 25 columns):\n",
            " #   Column                 Non-Null Count  Dtype  \n",
            "---  ------                 --------------  -----  \n",
            " 0   ProductID              504 non-null    int64  \n",
            " 1   Name                   504 non-null    object \n",
            " 2   ProductNumber          504 non-null    object \n",
            " 3   MakeFlag               504 non-null    int64  \n",
            " 4   FinishedGoodsFlag      504 non-null    int64  \n",
            " 5   Color                  256 non-null    object \n",
            " 6   SafetyStockLevel       504 non-null    int64  \n",
            " 7   ReorderPoint           504 non-null    int64  \n",
            " 8   StandardCost           504 non-null    float64\n",
            " 9   ListPrice              504 non-null    float64\n",
            " 10  Size                   211 non-null    object \n",
            " 11  SizeUnitMeasureCode    176 non-null    object \n",
            " 12  WeightUnitMeasureCode  205 non-null    object \n",
            " 13  Weight                 205 non-null    float64\n",
            " 14  DaysToManufacture      504 non-null    int64  \n",
            " 15  ProductLine            278 non-null    object \n",
            " 16  Class                  247 non-null    object \n",
            " 17  Style                  211 non-null    object \n",
            " 18  ProductSubcategoryID   295 non-null    float64\n",
            " 19  ProductModelID         295 non-null    float64\n",
            " 20  SellStartDate          504 non-null    object \n",
            " 21  SellEndDate            98 non-null     object \n",
            " 22  DiscontinuedDate       0 non-null      float64\n",
            " 23  rowguid                504 non-null    object \n",
            " 24  ModifiedDate           504 non-null    object \n",
            "dtypes: float64(6), int64(6), object(13)\n",
            "memory usage: 98.6+ KB\n"
          ],
          "name": "stdout"
        }
      ]
    },
    {
      "cell_type": "markdown",
      "metadata": {
        "id": "rG2cKcSeDdaO",
        "colab_type": "text"
      },
      "source": [
        "### Reset our index (like last time)\n",
        "\n",
        "Let's bring our `ProductID` column into the index since it's the PK (primary key) of our table and that's where PKs belong as a best practice."
      ]
    },
    {
      "cell_type": "code",
      "metadata": {
        "id": "vxOktlllDdaO",
        "colab_type": "code",
        "colab": {}
      },
      "source": [
        "# replace auto-generated index with the ProductID column\n",
        "prod.set_index('ProductID', inplace=True)"
      ],
      "execution_count": null,
      "outputs": []
    },
    {
      "cell_type": "markdown",
      "metadata": {
        "id": "Aduub6deDdaR",
        "colab_type": "text"
      },
      "source": [
        "## Handling missing data\n",
        "\n",
        "Recall missing data is a systemic, challenging problem for data scientists. Imagine conducting a poll, but some of the data gets lost, or you run out of budget and can't complete it! 😮<br><br>\n",
        "\n",
        "\"Handling missing data\" itself is a broad topic. We'll focus on two components:\n",
        "\n",
        "- Using Pandas to identify we have missing data\n",
        "- Strategies to fill in missing data (known in the business as `imputing`)\n",
        "- Filling in missing data with Pandas\n"
      ]
    },
    {
      "cell_type": "markdown",
      "metadata": {
        "id": "2eDYmKcVDdaR",
        "colab_type": "text"
      },
      "source": [
        "### Identifying missing data\n",
        "\n",
        "Before *handling*, we must identify we're missing data at all!\n",
        "\n",
        "We have a few ways to explore missing data, and they are reminiscient of our Boolean filters."
      ]
    },
    {
      "cell_type": "code",
      "metadata": {
        "id": "JeiwTD53DdaS",
        "colab_type": "code",
        "colab": {
          "base_uri": "https://localhost:8080/",
          "height": 188
        },
        "outputId": "b7f9d37d-8064-4e34-d70a-f5a40640d334"
      },
      "source": [
        "# True when data isn't missing\n",
        "prod.notnull().head(3)"
      ],
      "execution_count": null,
      "outputs": [
        {
          "output_type": "execute_result",
          "data": {
            "text/html": [
              "<div>\n",
              "<style scoped>\n",
              "    .dataframe tbody tr th:only-of-type {\n",
              "        vertical-align: middle;\n",
              "    }\n",
              "\n",
              "    .dataframe tbody tr th {\n",
              "        vertical-align: top;\n",
              "    }\n",
              "\n",
              "    .dataframe thead th {\n",
              "        text-align: right;\n",
              "    }\n",
              "</style>\n",
              "<table border=\"1\" class=\"dataframe\">\n",
              "  <thead>\n",
              "    <tr style=\"text-align: right;\">\n",
              "      <th></th>\n",
              "      <th>Name</th>\n",
              "      <th>ProductNumber</th>\n",
              "      <th>MakeFlag</th>\n",
              "      <th>FinishedGoodsFlag</th>\n",
              "      <th>Color</th>\n",
              "      <th>SafetyStockLevel</th>\n",
              "      <th>ReorderPoint</th>\n",
              "      <th>StandardCost</th>\n",
              "      <th>ListPrice</th>\n",
              "      <th>Size</th>\n",
              "      <th>SizeUnitMeasureCode</th>\n",
              "      <th>WeightUnitMeasureCode</th>\n",
              "      <th>Weight</th>\n",
              "      <th>DaysToManufacture</th>\n",
              "      <th>ProductLine</th>\n",
              "      <th>Class</th>\n",
              "      <th>Style</th>\n",
              "      <th>ProductSubcategoryID</th>\n",
              "      <th>ProductModelID</th>\n",
              "      <th>SellStartDate</th>\n",
              "      <th>SellEndDate</th>\n",
              "      <th>DiscontinuedDate</th>\n",
              "      <th>rowguid</th>\n",
              "      <th>ModifiedDate</th>\n",
              "    </tr>\n",
              "    <tr>\n",
              "      <th>ProductID</th>\n",
              "      <th></th>\n",
              "      <th></th>\n",
              "      <th></th>\n",
              "      <th></th>\n",
              "      <th></th>\n",
              "      <th></th>\n",
              "      <th></th>\n",
              "      <th></th>\n",
              "      <th></th>\n",
              "      <th></th>\n",
              "      <th></th>\n",
              "      <th></th>\n",
              "      <th></th>\n",
              "      <th></th>\n",
              "      <th></th>\n",
              "      <th></th>\n",
              "      <th></th>\n",
              "      <th></th>\n",
              "      <th></th>\n",
              "      <th></th>\n",
              "      <th></th>\n",
              "      <th></th>\n",
              "      <th></th>\n",
              "      <th></th>\n",
              "    </tr>\n",
              "  </thead>\n",
              "  <tbody>\n",
              "    <tr>\n",
              "      <th>1</th>\n",
              "      <td>True</td>\n",
              "      <td>True</td>\n",
              "      <td>True</td>\n",
              "      <td>True</td>\n",
              "      <td>False</td>\n",
              "      <td>True</td>\n",
              "      <td>True</td>\n",
              "      <td>True</td>\n",
              "      <td>True</td>\n",
              "      <td>False</td>\n",
              "      <td>False</td>\n",
              "      <td>False</td>\n",
              "      <td>False</td>\n",
              "      <td>True</td>\n",
              "      <td>False</td>\n",
              "      <td>False</td>\n",
              "      <td>False</td>\n",
              "      <td>False</td>\n",
              "      <td>False</td>\n",
              "      <td>True</td>\n",
              "      <td>False</td>\n",
              "      <td>False</td>\n",
              "      <td>True</td>\n",
              "      <td>True</td>\n",
              "    </tr>\n",
              "    <tr>\n",
              "      <th>2</th>\n",
              "      <td>True</td>\n",
              "      <td>True</td>\n",
              "      <td>True</td>\n",
              "      <td>True</td>\n",
              "      <td>False</td>\n",
              "      <td>True</td>\n",
              "      <td>True</td>\n",
              "      <td>True</td>\n",
              "      <td>True</td>\n",
              "      <td>False</td>\n",
              "      <td>False</td>\n",
              "      <td>False</td>\n",
              "      <td>False</td>\n",
              "      <td>True</td>\n",
              "      <td>False</td>\n",
              "      <td>False</td>\n",
              "      <td>False</td>\n",
              "      <td>False</td>\n",
              "      <td>False</td>\n",
              "      <td>True</td>\n",
              "      <td>False</td>\n",
              "      <td>False</td>\n",
              "      <td>True</td>\n",
              "      <td>True</td>\n",
              "    </tr>\n",
              "    <tr>\n",
              "      <th>3</th>\n",
              "      <td>True</td>\n",
              "      <td>True</td>\n",
              "      <td>True</td>\n",
              "      <td>True</td>\n",
              "      <td>False</td>\n",
              "      <td>True</td>\n",
              "      <td>True</td>\n",
              "      <td>True</td>\n",
              "      <td>True</td>\n",
              "      <td>False</td>\n",
              "      <td>False</td>\n",
              "      <td>False</td>\n",
              "      <td>False</td>\n",
              "      <td>True</td>\n",
              "      <td>False</td>\n",
              "      <td>False</td>\n",
              "      <td>False</td>\n",
              "      <td>False</td>\n",
              "      <td>False</td>\n",
              "      <td>True</td>\n",
              "      <td>False</td>\n",
              "      <td>False</td>\n",
              "      <td>True</td>\n",
              "      <td>True</td>\n",
              "    </tr>\n",
              "  </tbody>\n",
              "</table>\n",
              "</div>"
            ],
            "text/plain": [
              "           Name  ProductNumber  ...  rowguid  ModifiedDate\n",
              "ProductID                       ...                       \n",
              "1          True           True  ...     True          True\n",
              "2          True           True  ...     True          True\n",
              "3          True           True  ...     True          True\n",
              "\n",
              "[3 rows x 24 columns]"
            ]
          },
          "metadata": {
            "tags": []
          },
          "execution_count": 9
        }
      ]
    },
    {
      "cell_type": "code",
      "metadata": {
        "id": "ykaEE_HiDdaX",
        "colab_type": "code",
        "colab": {
          "base_uri": "https://localhost:8080/",
          "height": 188
        },
        "outputId": "3555b932-9764-4f65-834b-6fd58376d1de"
      },
      "source": [
        "# True when data is missing\n",
        "prod.isnull().head(3)"
      ],
      "execution_count": null,
      "outputs": [
        {
          "output_type": "execute_result",
          "data": {
            "text/html": [
              "<div>\n",
              "<style scoped>\n",
              "    .dataframe tbody tr th:only-of-type {\n",
              "        vertical-align: middle;\n",
              "    }\n",
              "\n",
              "    .dataframe tbody tr th {\n",
              "        vertical-align: top;\n",
              "    }\n",
              "\n",
              "    .dataframe thead th {\n",
              "        text-align: right;\n",
              "    }\n",
              "</style>\n",
              "<table border=\"1\" class=\"dataframe\">\n",
              "  <thead>\n",
              "    <tr style=\"text-align: right;\">\n",
              "      <th></th>\n",
              "      <th>Name</th>\n",
              "      <th>ProductNumber</th>\n",
              "      <th>MakeFlag</th>\n",
              "      <th>FinishedGoodsFlag</th>\n",
              "      <th>Color</th>\n",
              "      <th>SafetyStockLevel</th>\n",
              "      <th>ReorderPoint</th>\n",
              "      <th>StandardCost</th>\n",
              "      <th>ListPrice</th>\n",
              "      <th>Size</th>\n",
              "      <th>SizeUnitMeasureCode</th>\n",
              "      <th>WeightUnitMeasureCode</th>\n",
              "      <th>Weight</th>\n",
              "      <th>DaysToManufacture</th>\n",
              "      <th>ProductLine</th>\n",
              "      <th>Class</th>\n",
              "      <th>Style</th>\n",
              "      <th>ProductSubcategoryID</th>\n",
              "      <th>ProductModelID</th>\n",
              "      <th>SellStartDate</th>\n",
              "      <th>SellEndDate</th>\n",
              "      <th>DiscontinuedDate</th>\n",
              "      <th>rowguid</th>\n",
              "      <th>ModifiedDate</th>\n",
              "    </tr>\n",
              "    <tr>\n",
              "      <th>ProductID</th>\n",
              "      <th></th>\n",
              "      <th></th>\n",
              "      <th></th>\n",
              "      <th></th>\n",
              "      <th></th>\n",
              "      <th></th>\n",
              "      <th></th>\n",
              "      <th></th>\n",
              "      <th></th>\n",
              "      <th></th>\n",
              "      <th></th>\n",
              "      <th></th>\n",
              "      <th></th>\n",
              "      <th></th>\n",
              "      <th></th>\n",
              "      <th></th>\n",
              "      <th></th>\n",
              "      <th></th>\n",
              "      <th></th>\n",
              "      <th></th>\n",
              "      <th></th>\n",
              "      <th></th>\n",
              "      <th></th>\n",
              "      <th></th>\n",
              "    </tr>\n",
              "  </thead>\n",
              "  <tbody>\n",
              "    <tr>\n",
              "      <th>1</th>\n",
              "      <td>False</td>\n",
              "      <td>False</td>\n",
              "      <td>False</td>\n",
              "      <td>False</td>\n",
              "      <td>True</td>\n",
              "      <td>False</td>\n",
              "      <td>False</td>\n",
              "      <td>False</td>\n",
              "      <td>False</td>\n",
              "      <td>True</td>\n",
              "      <td>True</td>\n",
              "      <td>True</td>\n",
              "      <td>True</td>\n",
              "      <td>False</td>\n",
              "      <td>True</td>\n",
              "      <td>True</td>\n",
              "      <td>True</td>\n",
              "      <td>True</td>\n",
              "      <td>True</td>\n",
              "      <td>False</td>\n",
              "      <td>True</td>\n",
              "      <td>True</td>\n",
              "      <td>False</td>\n",
              "      <td>False</td>\n",
              "    </tr>\n",
              "    <tr>\n",
              "      <th>2</th>\n",
              "      <td>False</td>\n",
              "      <td>False</td>\n",
              "      <td>False</td>\n",
              "      <td>False</td>\n",
              "      <td>True</td>\n",
              "      <td>False</td>\n",
              "      <td>False</td>\n",
              "      <td>False</td>\n",
              "      <td>False</td>\n",
              "      <td>True</td>\n",
              "      <td>True</td>\n",
              "      <td>True</td>\n",
              "      <td>True</td>\n",
              "      <td>False</td>\n",
              "      <td>True</td>\n",
              "      <td>True</td>\n",
              "      <td>True</td>\n",
              "      <td>True</td>\n",
              "      <td>True</td>\n",
              "      <td>False</td>\n",
              "      <td>True</td>\n",
              "      <td>True</td>\n",
              "      <td>False</td>\n",
              "      <td>False</td>\n",
              "    </tr>\n",
              "    <tr>\n",
              "      <th>3</th>\n",
              "      <td>False</td>\n",
              "      <td>False</td>\n",
              "      <td>False</td>\n",
              "      <td>False</td>\n",
              "      <td>True</td>\n",
              "      <td>False</td>\n",
              "      <td>False</td>\n",
              "      <td>False</td>\n",
              "      <td>False</td>\n",
              "      <td>True</td>\n",
              "      <td>True</td>\n",
              "      <td>True</td>\n",
              "      <td>True</td>\n",
              "      <td>False</td>\n",
              "      <td>True</td>\n",
              "      <td>True</td>\n",
              "      <td>True</td>\n",
              "      <td>True</td>\n",
              "      <td>True</td>\n",
              "      <td>False</td>\n",
              "      <td>True</td>\n",
              "      <td>True</td>\n",
              "      <td>False</td>\n",
              "      <td>False</td>\n",
              "    </tr>\n",
              "  </tbody>\n",
              "</table>\n",
              "</div>"
            ],
            "text/plain": [
              "            Name  ProductNumber  ...  rowguid  ModifiedDate\n",
              "ProductID                        ...                       \n",
              "1          False          False  ...    False         False\n",
              "2          False          False  ...    False         False\n",
              "3          False          False  ...    False         False\n",
              "\n",
              "[3 rows x 24 columns]"
            ]
          },
          "metadata": {
            "tags": []
          },
          "execution_count": 10
        }
      ]
    },
    {
      "cell_type": "markdown",
      "metadata": {
        "id": "Qcx1QBuXDdac",
        "colab_type": "text"
      },
      "source": [
        "Now, we may want to see null values in aggregate. We can use `sum()` to sum down a given column"
      ]
    },
    {
      "cell_type": "code",
      "metadata": {
        "id": "Jr2y38ypDdad",
        "colab_type": "code",
        "colab": {
          "base_uri": "https://localhost:8080/",
          "height": 449
        },
        "outputId": "d324ed8e-efdb-4bdc-ffb7-ea4dc6f39c6f"
      },
      "source": [
        "# here is a quick and dirty way to do it\n",
        "prod.isnull().sum()"
      ],
      "execution_count": null,
      "outputs": [
        {
          "output_type": "execute_result",
          "data": {
            "text/plain": [
              "Name                       0\n",
              "ProductNumber              0\n",
              "MakeFlag                   0\n",
              "FinishedGoodsFlag          0\n",
              "Color                    248\n",
              "SafetyStockLevel           0\n",
              "ReorderPoint               0\n",
              "StandardCost               0\n",
              "ListPrice                  0\n",
              "Size                     293\n",
              "SizeUnitMeasureCode      328\n",
              "WeightUnitMeasureCode    299\n",
              "Weight                   299\n",
              "DaysToManufacture          0\n",
              "ProductLine              226\n",
              "Class                    257\n",
              "Style                    293\n",
              "ProductSubcategoryID     209\n",
              "ProductModelID           209\n",
              "SellStartDate              0\n",
              "SellEndDate              406\n",
              "DiscontinuedDate         504\n",
              "rowguid                    0\n",
              "ModifiedDate               0\n",
              "dtype: int64"
            ]
          },
          "metadata": {
            "tags": []
          },
          "execution_count": 11
        }
      ]
    },
    {
      "cell_type": "markdown",
      "metadata": {
        "id": "BFIbycpfDdaf",
        "colab_type": "text"
      },
      "source": [
        "Look! We've found missing values!\n",
        "\n",
        "How could this missing data be problematic for our analysis?"
      ]
    },
    {
      "cell_type": "markdown",
      "metadata": {
        "id": "4Q6oTWqyDdaf",
        "colab_type": "text"
      },
      "source": [
        "### Understanding missing data\n",
        "\n",
        "Finding missing data is the easy part! Determining way to do next is more complicated.\n",
        "\n",
        "Typically, we are most interested in knowing **why** we are missing data. Once we know what 'type of missingness' we have (the source of missing data), we can proceed effectively."
      ]
    },
    {
      "cell_type": "markdown",
      "metadata": {
        "id": "Bg9SukC5Ddag",
        "colab_type": "text"
      },
      "source": [
        "Let's first quantify how much data we are missing. Here is another implementation of `prod.isnull().sum()`, only wrapped with a `DataFrame` and some labels to make it a little more user-friendly:"
      ]
    },
    {
      "cell_type": "code",
      "metadata": {
        "id": "gx1PP8sIDdag",
        "colab_type": "code",
        "colab": {
          "base_uri": "https://localhost:8080/",
          "height": 378
        },
        "outputId": "a94c393a-aa55-4731-bfa5-3cce03c399ac"
      },
      "source": [
        "# or we can make things pretty as follows\n",
        "null_df = pd.DataFrame(prod.isnull().sum(), columns=['Count of Nulls'])\n",
        "null_df.index.name = 'Column'\n",
        "null_df.sort_values(['Count of Nulls'], ascending=False).head(10)"
      ],
      "execution_count": null,
      "outputs": [
        {
          "output_type": "execute_result",
          "data": {
            "text/html": [
              "<div>\n",
              "<style scoped>\n",
              "    .dataframe tbody tr th:only-of-type {\n",
              "        vertical-align: middle;\n",
              "    }\n",
              "\n",
              "    .dataframe tbody tr th {\n",
              "        vertical-align: top;\n",
              "    }\n",
              "\n",
              "    .dataframe thead th {\n",
              "        text-align: right;\n",
              "    }\n",
              "</style>\n",
              "<table border=\"1\" class=\"dataframe\">\n",
              "  <thead>\n",
              "    <tr style=\"text-align: right;\">\n",
              "      <th></th>\n",
              "      <th>Count of Nulls</th>\n",
              "    </tr>\n",
              "    <tr>\n",
              "      <th>Column</th>\n",
              "      <th></th>\n",
              "    </tr>\n",
              "  </thead>\n",
              "  <tbody>\n",
              "    <tr>\n",
              "      <th>DiscontinuedDate</th>\n",
              "      <td>504</td>\n",
              "    </tr>\n",
              "    <tr>\n",
              "      <th>SellEndDate</th>\n",
              "      <td>406</td>\n",
              "    </tr>\n",
              "    <tr>\n",
              "      <th>SizeUnitMeasureCode</th>\n",
              "      <td>328</td>\n",
              "    </tr>\n",
              "    <tr>\n",
              "      <th>Weight</th>\n",
              "      <td>299</td>\n",
              "    </tr>\n",
              "    <tr>\n",
              "      <th>WeightUnitMeasureCode</th>\n",
              "      <td>299</td>\n",
              "    </tr>\n",
              "    <tr>\n",
              "      <th>Size</th>\n",
              "      <td>293</td>\n",
              "    </tr>\n",
              "    <tr>\n",
              "      <th>Style</th>\n",
              "      <td>293</td>\n",
              "    </tr>\n",
              "    <tr>\n",
              "      <th>Class</th>\n",
              "      <td>257</td>\n",
              "    </tr>\n",
              "    <tr>\n",
              "      <th>Color</th>\n",
              "      <td>248</td>\n",
              "    </tr>\n",
              "    <tr>\n",
              "      <th>ProductLine</th>\n",
              "      <td>226</td>\n",
              "    </tr>\n",
              "  </tbody>\n",
              "</table>\n",
              "</div>"
            ],
            "text/plain": [
              "                       Count of Nulls\n",
              "Column                               \n",
              "DiscontinuedDate                  504\n",
              "SellEndDate                       406\n",
              "SizeUnitMeasureCode               328\n",
              "Weight                            299\n",
              "WeightUnitMeasureCode             299\n",
              "Size                              293\n",
              "Style                             293\n",
              "Class                             257\n",
              "Color                             248\n",
              "ProductLine                       226"
            ]
          },
          "metadata": {
            "tags": []
          },
          "execution_count": 12
        }
      ]
    },
    {
      "cell_type": "markdown",
      "metadata": {
        "id": "ih3CF3IbDdaj",
        "colab_type": "text"
      },
      "source": [
        "### Filling in missing data\n",
        "\n",
        "How we fill in data depends largely on why it is missing (types of missingness) and what sampling we have available to us.\n",
        "\n",
        "We may:\n",
        "\n",
        "- Delete missing data altogether\n",
        "- Fill in missing data with:\n",
        "    - The average of the column\n",
        "    - The median of the column\n",
        "    - A predicted amount based on other factors\n",
        "- Collect more data:\n",
        "    - Resample the population\n",
        "    - Followup with the authority providing data that is missing\n"
      ]
    },
    {
      "cell_type": "code",
      "metadata": {
        "id": "7lCaQyHfDdak",
        "colab_type": "code",
        "colab": {
          "base_uri": "https://localhost:8080/",
          "height": 190
        },
        "outputId": "762b3c1f-e82a-4125-b704-12a9c0c07973"
      },
      "source": [
        "# describe a particular column with frequencies of categories\n",
        "prod['Color'].value_counts().sort_index()"
      ],
      "execution_count": null,
      "outputs": [
        {
          "output_type": "execute_result",
          "data": {
            "text/plain": [
              "Black           93\n",
              "Blue            26\n",
              "Grey             1\n",
              "Multi            8\n",
              "Red             38\n",
              "Silver          43\n",
              "Silver/Black     7\n",
              "White            4\n",
              "Yellow          36\n",
              "Name: Color, dtype: int64"
            ]
          },
          "metadata": {
            "tags": []
          },
          "execution_count": 13
        }
      ]
    },
    {
      "cell_type": "markdown",
      "metadata": {
        "id": "e_d9931zDdan",
        "colab_type": "text"
      },
      "source": [
        "In our case, let's focus on handling missing values in `Color`. Let's get a count of the unique values in that column. We will need to use the `dropna=False` kwarg, otherwise the `pd.Series.value_counts()` method will not count `NaN` (null) values."
      ]
    },
    {
      "cell_type": "code",
      "metadata": {
        "id": "nnRUQfSjDdao",
        "colab_type": "code",
        "colab": {
          "base_uri": "https://localhost:8080/",
          "height": 207
        },
        "outputId": "d9478538-f36c-4795-b680-f3094879cad5"
      },
      "source": [
        "# notice the use of `dropna`\n",
        "prod['Color'].value_counts(dropna=False)"
      ],
      "execution_count": null,
      "outputs": [
        {
          "output_type": "execute_result",
          "data": {
            "text/plain": [
              "NaN             248\n",
              "Black            93\n",
              "Silver           43\n",
              "Red              38\n",
              "Yellow           36\n",
              "Blue             26\n",
              "Multi             8\n",
              "Silver/Black      7\n",
              "White             4\n",
              "Grey              1\n",
              "Name: Color, dtype: int64"
            ]
          },
          "metadata": {
            "tags": []
          },
          "execution_count": 14
        }
      ]
    },
    {
      "cell_type": "markdown",
      "metadata": {
        "id": "sTWQ7NsGDdaq",
        "colab_type": "text"
      },
      "source": [
        "Ahoy! We have 248 nulls!"
      ]
    },
    {
      "cell_type": "markdown",
      "metadata": {
        "id": "14KxPgHpDdaq",
        "colab_type": "text"
      },
      "source": [
        "Option 1: Drop the missing values."
      ]
    },
    {
      "cell_type": "code",
      "metadata": {
        "id": "_62b-ioFDdar",
        "colab_type": "code",
        "colab": {
          "base_uri": "https://localhost:8080/",
          "height": 242
        },
        "outputId": "5dd1a811-b4c0-4c5c-9c27-b8fd41b3ea68"
      },
      "source": [
        "# drops rows where any row has a missing value - this does not happen *in place*, so we are not actually dropping\n",
        "prod['Color'].dropna(inplace=False)"
      ],
      "execution_count": null,
      "outputs": [
        {
          "output_type": "execute_result",
          "data": {
            "text/plain": [
              "ProductID\n",
              "317     Black\n",
              "318     Black\n",
              "319     Black\n",
              "320    Silver\n",
              "321    Silver\n",
              "        ...  \n",
              "992     Black\n",
              "993     Black\n",
              "997     Black\n",
              "998     Black\n",
              "999     Black\n",
              "Name: Color, Length: 256, dtype: object"
            ]
          },
          "metadata": {
            "tags": []
          },
          "execution_count": 15
        }
      ]
    },
    {
      "cell_type": "markdown",
      "metadata": {
        "id": "j-ZajzroDdau",
        "colab_type": "text"
      },
      "source": [
        "**Important!** `pd.DataFrame.dropna()` and `pd.Series.dropna()` are very versatile! Let's look at the docs (Series is similar):\n",
        "\n",
        "```python\n",
        "Signature: pd.DataFrame.dropna(self, axis=0, how='any', thresh=None, subset=None, inplace=False)\n",
        "Docstring:\n",
        "Remove missing values.\n",
        "\n",
        "See the :ref:`User Guide <missing_data>` for more on which values are\n",
        "considered missing, and how to work with missing data.\n",
        "\n",
        "Parameters\n",
        "----------\n",
        "axis : {0 or 'index', 1 or 'columns'}, default 0\n",
        "    Determine if rows or columns which contain missing values are\n",
        "    removed.\n",
        "\n",
        "    * 0, or 'index' : Drop rows which contain missing values.\n",
        "    * 1, or 'columns' : Drop columns which contain missing value.\n",
        "\n",
        "    .. deprecated:: 0.23.0: Pass tuple or list to drop on multiple\n",
        "    axes.\n",
        "how : {'any', 'all'}, default 'any'\n",
        "    Determine if row or column is removed from DataFrame, when we have\n",
        "    at least one NA or all NA.\n",
        "\n",
        "    * 'any' : If any NA values are present, drop that row or column.\n",
        "    * 'all' : If all values are NA, drop that row or column.\n",
        "thresh : int, optional\n",
        "    Require that many non-NA values.\n",
        "subset : array-like, optional\n",
        "    Labels along other axis to consider, e.g. if you are dropping rows\n",
        "    these would be a list of columns to include.\n",
        "inplace : bool, default False\n",
        "    If True, do operation inplace and return None.\n",
        "```\n",
        "\n",
        "**how**: This tells us if we want to remove a row if _any_ of the columns have a null, or _all_ of the columns have a null.<br>\n",
        "**subset**: We can input an array here, like `['Color', 'Size', 'Weight']`, and it will only consider nulls in those columns. This is very useful!<br>\n",
        "**inplace**: This is if you want to mutate (change) the source dataframe. Default is `False`, so it will return a _copy_ of the source dataframe."
      ]
    },
    {
      "cell_type": "markdown",
      "metadata": {
        "id": "jDDWYrvPDdau",
        "colab_type": "text"
      },
      "source": [
        "To accomplish the same thing, but implement it on our entire dataframe, we can do the following:"
      ]
    },
    {
      "cell_type": "code",
      "metadata": {
        "id": "HXinKz2qDdau",
        "colab_type": "code",
        "colab": {
          "base_uri": "https://localhost:8080/",
          "height": 309
        },
        "outputId": "7c39800f-e52f-4ced-925d-f56e122b95d4"
      },
      "source": [
        "# drops all nulls from the Color column, but returns the entire dataframe instead of just the Color column\n",
        "prod.dropna(subset=['Color']).head(3)"
      ],
      "execution_count": null,
      "outputs": [
        {
          "output_type": "execute_result",
          "data": {
            "text/html": [
              "<div>\n",
              "<style scoped>\n",
              "    .dataframe tbody tr th:only-of-type {\n",
              "        vertical-align: middle;\n",
              "    }\n",
              "\n",
              "    .dataframe tbody tr th {\n",
              "        vertical-align: top;\n",
              "    }\n",
              "\n",
              "    .dataframe thead th {\n",
              "        text-align: right;\n",
              "    }\n",
              "</style>\n",
              "<table border=\"1\" class=\"dataframe\">\n",
              "  <thead>\n",
              "    <tr style=\"text-align: right;\">\n",
              "      <th>Column</th>\n",
              "      <th>Name</th>\n",
              "      <th>ProductNumber</th>\n",
              "      <th>MakeFlag</th>\n",
              "      <th>FinishedGoodsFlag</th>\n",
              "      <th>Color</th>\n",
              "      <th>SafetyStockLevel</th>\n",
              "      <th>ReorderPoint</th>\n",
              "      <th>StandardCost</th>\n",
              "      <th>ListPrice</th>\n",
              "      <th>Size</th>\n",
              "      <th>SizeUnitMeasureCode</th>\n",
              "      <th>WeightUnitMeasureCode</th>\n",
              "      <th>Weight</th>\n",
              "      <th>DaysToManufacture</th>\n",
              "      <th>ProductLine</th>\n",
              "      <th>Class</th>\n",
              "      <th>Style</th>\n",
              "      <th>ProductSubcategoryID</th>\n",
              "      <th>ProductModelID</th>\n",
              "      <th>SellStartDate</th>\n",
              "      <th>SellEndDate</th>\n",
              "      <th>DiscontinuedDate</th>\n",
              "      <th>rowguid</th>\n",
              "      <th>ModifiedDate</th>\n",
              "    </tr>\n",
              "    <tr>\n",
              "      <th>ProductID</th>\n",
              "      <th></th>\n",
              "      <th></th>\n",
              "      <th></th>\n",
              "      <th></th>\n",
              "      <th></th>\n",
              "      <th></th>\n",
              "      <th></th>\n",
              "      <th></th>\n",
              "      <th></th>\n",
              "      <th></th>\n",
              "      <th></th>\n",
              "      <th></th>\n",
              "      <th></th>\n",
              "      <th></th>\n",
              "      <th></th>\n",
              "      <th></th>\n",
              "      <th></th>\n",
              "      <th></th>\n",
              "      <th></th>\n",
              "      <th></th>\n",
              "      <th></th>\n",
              "      <th></th>\n",
              "      <th></th>\n",
              "      <th></th>\n",
              "    </tr>\n",
              "  </thead>\n",
              "  <tbody>\n",
              "    <tr>\n",
              "      <th>317</th>\n",
              "      <td>LL Crankarm</td>\n",
              "      <td>CA-5965</td>\n",
              "      <td>0</td>\n",
              "      <td>0</td>\n",
              "      <td>Black</td>\n",
              "      <td>500</td>\n",
              "      <td>375</td>\n",
              "      <td>0.0</td>\n",
              "      <td>0.0</td>\n",
              "      <td>NaN</td>\n",
              "      <td>NaN</td>\n",
              "      <td>NaN</td>\n",
              "      <td>NaN</td>\n",
              "      <td>0</td>\n",
              "      <td>NaN</td>\n",
              "      <td>L</td>\n",
              "      <td>NaN</td>\n",
              "      <td>NaN</td>\n",
              "      <td>NaN</td>\n",
              "      <td>2008-04-30 00:00:00</td>\n",
              "      <td>NaN</td>\n",
              "      <td>NaN</td>\n",
              "      <td>{3C9D10B7-A6B2-4774-9963-C19DCEE72FEA}</td>\n",
              "      <td>2014-02-08 10:01:36.827000000</td>\n",
              "    </tr>\n",
              "    <tr>\n",
              "      <th>318</th>\n",
              "      <td>ML Crankarm</td>\n",
              "      <td>CA-6738</td>\n",
              "      <td>0</td>\n",
              "      <td>0</td>\n",
              "      <td>Black</td>\n",
              "      <td>500</td>\n",
              "      <td>375</td>\n",
              "      <td>0.0</td>\n",
              "      <td>0.0</td>\n",
              "      <td>NaN</td>\n",
              "      <td>NaN</td>\n",
              "      <td>NaN</td>\n",
              "      <td>NaN</td>\n",
              "      <td>0</td>\n",
              "      <td>NaN</td>\n",
              "      <td>M</td>\n",
              "      <td>NaN</td>\n",
              "      <td>NaN</td>\n",
              "      <td>NaN</td>\n",
              "      <td>2008-04-30 00:00:00</td>\n",
              "      <td>NaN</td>\n",
              "      <td>NaN</td>\n",
              "      <td>{EABB9A92-FA07-4EAB-8955-F0517B4A4CA7}</td>\n",
              "      <td>2014-02-08 10:01:36.827000000</td>\n",
              "    </tr>\n",
              "    <tr>\n",
              "      <th>319</th>\n",
              "      <td>HL Crankarm</td>\n",
              "      <td>CA-7457</td>\n",
              "      <td>0</td>\n",
              "      <td>0</td>\n",
              "      <td>Black</td>\n",
              "      <td>500</td>\n",
              "      <td>375</td>\n",
              "      <td>0.0</td>\n",
              "      <td>0.0</td>\n",
              "      <td>NaN</td>\n",
              "      <td>NaN</td>\n",
              "      <td>NaN</td>\n",
              "      <td>NaN</td>\n",
              "      <td>0</td>\n",
              "      <td>NaN</td>\n",
              "      <td>NaN</td>\n",
              "      <td>NaN</td>\n",
              "      <td>NaN</td>\n",
              "      <td>NaN</td>\n",
              "      <td>2008-04-30 00:00:00</td>\n",
              "      <td>NaN</td>\n",
              "      <td>NaN</td>\n",
              "      <td>{7D3FD384-4F29-484B-86FA-4206E276FE58}</td>\n",
              "      <td>2014-02-08 10:01:36.827000000</td>\n",
              "    </tr>\n",
              "  </tbody>\n",
              "</table>\n",
              "</div>"
            ],
            "text/plain": [
              "Column            Name  ...                   ModifiedDate\n",
              "ProductID               ...                               \n",
              "317        LL Crankarm  ...  2014-02-08 10:01:36.827000000\n",
              "318        ML Crankarm  ...  2014-02-08 10:01:36.827000000\n",
              "319        HL Crankarm  ...  2014-02-08 10:01:36.827000000\n",
              "\n",
              "[3 rows x 24 columns]"
            ]
          },
          "metadata": {
            "tags": []
          },
          "execution_count": 16
        }
      ]
    },
    {
      "cell_type": "markdown",
      "metadata": {
        "id": "huPClJoeDdax",
        "colab_type": "text"
      },
      "source": [
        "Option 2: Fill in missing values"
      ]
    },
    {
      "cell_type": "markdown",
      "metadata": {
        "id": "hIq3cnj1Ddax",
        "colab_type": "text"
      },
      "source": [
        "Traditionally, we fill missing data with a median, average, or mode (most frequently occurring). For `Color`, let's replace the nulls with the string value `NoColor`.\n",
        "\n",
        "Let's first look at the way we'd do it with a single column, using the `pd.Series.fillna()` method:"
      ]
    },
    {
      "cell_type": "code",
      "metadata": {
        "id": "TLekf5tGDday",
        "colab_type": "code",
        "colab": {
          "base_uri": "https://localhost:8080/",
          "height": 225
        },
        "outputId": "23cd0faa-32c5-43c1-bfb7-6c4c88c7fdba"
      },
      "source": [
        "prod['Color'].fillna(value='NoColor').head(10)"
      ],
      "execution_count": null,
      "outputs": [
        {
          "output_type": "execute_result",
          "data": {
            "text/plain": [
              "ProductID\n",
              "1      NoColor\n",
              "2      NoColor\n",
              "3      NoColor\n",
              "4      NoColor\n",
              "316    NoColor\n",
              "317      Black\n",
              "318      Black\n",
              "319      Black\n",
              "320     Silver\n",
              "321     Silver\n",
              "Name: Color, dtype: object"
            ]
          },
          "metadata": {
            "tags": []
          },
          "execution_count": 17
        }
      ]
    },
    {
      "cell_type": "markdown",
      "metadata": {
        "id": "SpKVf5-ADda0",
        "colab_type": "text"
      },
      "source": [
        "Now let's see how we'd do it to the whole dataframe, using the `pd.DataFrame.fillna()` method. Notice the similar API between the methods with the `value` kwarg. Good congruent design, pandas development team! The full dataframe is returned, and not just a column."
      ]
    },
    {
      "cell_type": "code",
      "metadata": {
        "id": "RfQOkDyRDda0",
        "colab_type": "code",
        "colab": {
          "base_uri": "https://localhost:8080/",
          "height": 847
        },
        "outputId": "c1fa14a7-8572-41a0-b820-707ad8dc1474"
      },
      "source": [
        "prod.fillna(value={'Color': 'NoColor'}).head(10)"
      ],
      "execution_count": null,
      "outputs": [
        {
          "output_type": "execute_result",
          "data": {
            "text/html": [
              "<div>\n",
              "<style scoped>\n",
              "    .dataframe tbody tr th:only-of-type {\n",
              "        vertical-align: middle;\n",
              "    }\n",
              "\n",
              "    .dataframe tbody tr th {\n",
              "        vertical-align: top;\n",
              "    }\n",
              "\n",
              "    .dataframe thead th {\n",
              "        text-align: right;\n",
              "    }\n",
              "</style>\n",
              "<table border=\"1\" class=\"dataframe\">\n",
              "  <thead>\n",
              "    <tr style=\"text-align: right;\">\n",
              "      <th>Column</th>\n",
              "      <th>Name</th>\n",
              "      <th>ProductNumber</th>\n",
              "      <th>MakeFlag</th>\n",
              "      <th>FinishedGoodsFlag</th>\n",
              "      <th>Color</th>\n",
              "      <th>SafetyStockLevel</th>\n",
              "      <th>ReorderPoint</th>\n",
              "      <th>StandardCost</th>\n",
              "      <th>ListPrice</th>\n",
              "      <th>Size</th>\n",
              "      <th>SizeUnitMeasureCode</th>\n",
              "      <th>WeightUnitMeasureCode</th>\n",
              "      <th>Weight</th>\n",
              "      <th>DaysToManufacture</th>\n",
              "      <th>ProductLine</th>\n",
              "      <th>Class</th>\n",
              "      <th>Style</th>\n",
              "      <th>ProductSubcategoryID</th>\n",
              "      <th>ProductModelID</th>\n",
              "      <th>SellStartDate</th>\n",
              "      <th>SellEndDate</th>\n",
              "      <th>DiscontinuedDate</th>\n",
              "      <th>rowguid</th>\n",
              "      <th>ModifiedDate</th>\n",
              "    </tr>\n",
              "    <tr>\n",
              "      <th>ProductID</th>\n",
              "      <th></th>\n",
              "      <th></th>\n",
              "      <th></th>\n",
              "      <th></th>\n",
              "      <th></th>\n",
              "      <th></th>\n",
              "      <th></th>\n",
              "      <th></th>\n",
              "      <th></th>\n",
              "      <th></th>\n",
              "      <th></th>\n",
              "      <th></th>\n",
              "      <th></th>\n",
              "      <th></th>\n",
              "      <th></th>\n",
              "      <th></th>\n",
              "      <th></th>\n",
              "      <th></th>\n",
              "      <th></th>\n",
              "      <th></th>\n",
              "      <th></th>\n",
              "      <th></th>\n",
              "      <th></th>\n",
              "      <th></th>\n",
              "    </tr>\n",
              "  </thead>\n",
              "  <tbody>\n",
              "    <tr>\n",
              "      <th>1</th>\n",
              "      <td>Adjustable Race</td>\n",
              "      <td>AR-5381</td>\n",
              "      <td>0</td>\n",
              "      <td>0</td>\n",
              "      <td>NoColor</td>\n",
              "      <td>1000</td>\n",
              "      <td>750</td>\n",
              "      <td>0.0</td>\n",
              "      <td>0.0</td>\n",
              "      <td>NaN</td>\n",
              "      <td>NaN</td>\n",
              "      <td>NaN</td>\n",
              "      <td>NaN</td>\n",
              "      <td>0</td>\n",
              "      <td>NaN</td>\n",
              "      <td>NaN</td>\n",
              "      <td>NaN</td>\n",
              "      <td>NaN</td>\n",
              "      <td>NaN</td>\n",
              "      <td>2008-04-30 00:00:00</td>\n",
              "      <td>NaN</td>\n",
              "      <td>NaN</td>\n",
              "      <td>{694215B7-08F7-4C0D-ACB1-D734BA44C0C8}</td>\n",
              "      <td>2014-02-08 10:01:36.827000000</td>\n",
              "    </tr>\n",
              "    <tr>\n",
              "      <th>2</th>\n",
              "      <td>Bearing Ball</td>\n",
              "      <td>BA-8327</td>\n",
              "      <td>0</td>\n",
              "      <td>0</td>\n",
              "      <td>NoColor</td>\n",
              "      <td>1000</td>\n",
              "      <td>750</td>\n",
              "      <td>0.0</td>\n",
              "      <td>0.0</td>\n",
              "      <td>NaN</td>\n",
              "      <td>NaN</td>\n",
              "      <td>NaN</td>\n",
              "      <td>NaN</td>\n",
              "      <td>0</td>\n",
              "      <td>NaN</td>\n",
              "      <td>NaN</td>\n",
              "      <td>NaN</td>\n",
              "      <td>NaN</td>\n",
              "      <td>NaN</td>\n",
              "      <td>2008-04-30 00:00:00</td>\n",
              "      <td>NaN</td>\n",
              "      <td>NaN</td>\n",
              "      <td>{58AE3C20-4F3A-4749-A7D4-D568806CC537}</td>\n",
              "      <td>2014-02-08 10:01:36.827000000</td>\n",
              "    </tr>\n",
              "    <tr>\n",
              "      <th>3</th>\n",
              "      <td>BB Ball Bearing</td>\n",
              "      <td>BE-2349</td>\n",
              "      <td>1</td>\n",
              "      <td>0</td>\n",
              "      <td>NoColor</td>\n",
              "      <td>800</td>\n",
              "      <td>600</td>\n",
              "      <td>0.0</td>\n",
              "      <td>0.0</td>\n",
              "      <td>NaN</td>\n",
              "      <td>NaN</td>\n",
              "      <td>NaN</td>\n",
              "      <td>NaN</td>\n",
              "      <td>1</td>\n",
              "      <td>NaN</td>\n",
              "      <td>NaN</td>\n",
              "      <td>NaN</td>\n",
              "      <td>NaN</td>\n",
              "      <td>NaN</td>\n",
              "      <td>2008-04-30 00:00:00</td>\n",
              "      <td>NaN</td>\n",
              "      <td>NaN</td>\n",
              "      <td>{9C21AED2-5BFA-4F18-BCB8-F11638DC2E4E}</td>\n",
              "      <td>2014-02-08 10:01:36.827000000</td>\n",
              "    </tr>\n",
              "    <tr>\n",
              "      <th>4</th>\n",
              "      <td>Headset Ball Bearings</td>\n",
              "      <td>BE-2908</td>\n",
              "      <td>0</td>\n",
              "      <td>0</td>\n",
              "      <td>NoColor</td>\n",
              "      <td>800</td>\n",
              "      <td>600</td>\n",
              "      <td>0.0</td>\n",
              "      <td>0.0</td>\n",
              "      <td>NaN</td>\n",
              "      <td>NaN</td>\n",
              "      <td>NaN</td>\n",
              "      <td>NaN</td>\n",
              "      <td>0</td>\n",
              "      <td>NaN</td>\n",
              "      <td>NaN</td>\n",
              "      <td>NaN</td>\n",
              "      <td>NaN</td>\n",
              "      <td>NaN</td>\n",
              "      <td>2008-04-30 00:00:00</td>\n",
              "      <td>NaN</td>\n",
              "      <td>NaN</td>\n",
              "      <td>{ECFED6CB-51FF-49B5-B06C-7D8AC834DB8B}</td>\n",
              "      <td>2014-02-08 10:01:36.827000000</td>\n",
              "    </tr>\n",
              "    <tr>\n",
              "      <th>316</th>\n",
              "      <td>Blade</td>\n",
              "      <td>BL-2036</td>\n",
              "      <td>1</td>\n",
              "      <td>0</td>\n",
              "      <td>NoColor</td>\n",
              "      <td>800</td>\n",
              "      <td>600</td>\n",
              "      <td>0.0</td>\n",
              "      <td>0.0</td>\n",
              "      <td>NaN</td>\n",
              "      <td>NaN</td>\n",
              "      <td>NaN</td>\n",
              "      <td>NaN</td>\n",
              "      <td>1</td>\n",
              "      <td>NaN</td>\n",
              "      <td>NaN</td>\n",
              "      <td>NaN</td>\n",
              "      <td>NaN</td>\n",
              "      <td>NaN</td>\n",
              "      <td>2008-04-30 00:00:00</td>\n",
              "      <td>NaN</td>\n",
              "      <td>NaN</td>\n",
              "      <td>{E73E9750-603B-4131-89F5-3DD15ED5FF80}</td>\n",
              "      <td>2014-02-08 10:01:36.827000000</td>\n",
              "    </tr>\n",
              "    <tr>\n",
              "      <th>317</th>\n",
              "      <td>LL Crankarm</td>\n",
              "      <td>CA-5965</td>\n",
              "      <td>0</td>\n",
              "      <td>0</td>\n",
              "      <td>Black</td>\n",
              "      <td>500</td>\n",
              "      <td>375</td>\n",
              "      <td>0.0</td>\n",
              "      <td>0.0</td>\n",
              "      <td>NaN</td>\n",
              "      <td>NaN</td>\n",
              "      <td>NaN</td>\n",
              "      <td>NaN</td>\n",
              "      <td>0</td>\n",
              "      <td>NaN</td>\n",
              "      <td>L</td>\n",
              "      <td>NaN</td>\n",
              "      <td>NaN</td>\n",
              "      <td>NaN</td>\n",
              "      <td>2008-04-30 00:00:00</td>\n",
              "      <td>NaN</td>\n",
              "      <td>NaN</td>\n",
              "      <td>{3C9D10B7-A6B2-4774-9963-C19DCEE72FEA}</td>\n",
              "      <td>2014-02-08 10:01:36.827000000</td>\n",
              "    </tr>\n",
              "    <tr>\n",
              "      <th>318</th>\n",
              "      <td>ML Crankarm</td>\n",
              "      <td>CA-6738</td>\n",
              "      <td>0</td>\n",
              "      <td>0</td>\n",
              "      <td>Black</td>\n",
              "      <td>500</td>\n",
              "      <td>375</td>\n",
              "      <td>0.0</td>\n",
              "      <td>0.0</td>\n",
              "      <td>NaN</td>\n",
              "      <td>NaN</td>\n",
              "      <td>NaN</td>\n",
              "      <td>NaN</td>\n",
              "      <td>0</td>\n",
              "      <td>NaN</td>\n",
              "      <td>M</td>\n",
              "      <td>NaN</td>\n",
              "      <td>NaN</td>\n",
              "      <td>NaN</td>\n",
              "      <td>2008-04-30 00:00:00</td>\n",
              "      <td>NaN</td>\n",
              "      <td>NaN</td>\n",
              "      <td>{EABB9A92-FA07-4EAB-8955-F0517B4A4CA7}</td>\n",
              "      <td>2014-02-08 10:01:36.827000000</td>\n",
              "    </tr>\n",
              "    <tr>\n",
              "      <th>319</th>\n",
              "      <td>HL Crankarm</td>\n",
              "      <td>CA-7457</td>\n",
              "      <td>0</td>\n",
              "      <td>0</td>\n",
              "      <td>Black</td>\n",
              "      <td>500</td>\n",
              "      <td>375</td>\n",
              "      <td>0.0</td>\n",
              "      <td>0.0</td>\n",
              "      <td>NaN</td>\n",
              "      <td>NaN</td>\n",
              "      <td>NaN</td>\n",
              "      <td>NaN</td>\n",
              "      <td>0</td>\n",
              "      <td>NaN</td>\n",
              "      <td>NaN</td>\n",
              "      <td>NaN</td>\n",
              "      <td>NaN</td>\n",
              "      <td>NaN</td>\n",
              "      <td>2008-04-30 00:00:00</td>\n",
              "      <td>NaN</td>\n",
              "      <td>NaN</td>\n",
              "      <td>{7D3FD384-4F29-484B-86FA-4206E276FE58}</td>\n",
              "      <td>2014-02-08 10:01:36.827000000</td>\n",
              "    </tr>\n",
              "    <tr>\n",
              "      <th>320</th>\n",
              "      <td>Chainring Bolts</td>\n",
              "      <td>CB-2903</td>\n",
              "      <td>0</td>\n",
              "      <td>0</td>\n",
              "      <td>Silver</td>\n",
              "      <td>1000</td>\n",
              "      <td>750</td>\n",
              "      <td>0.0</td>\n",
              "      <td>0.0</td>\n",
              "      <td>NaN</td>\n",
              "      <td>NaN</td>\n",
              "      <td>NaN</td>\n",
              "      <td>NaN</td>\n",
              "      <td>0</td>\n",
              "      <td>NaN</td>\n",
              "      <td>NaN</td>\n",
              "      <td>NaN</td>\n",
              "      <td>NaN</td>\n",
              "      <td>NaN</td>\n",
              "      <td>2008-04-30 00:00:00</td>\n",
              "      <td>NaN</td>\n",
              "      <td>NaN</td>\n",
              "      <td>{7BE38E48-B7D6-4486-888E-F53C26735101}</td>\n",
              "      <td>2014-02-08 10:01:36.827000000</td>\n",
              "    </tr>\n",
              "    <tr>\n",
              "      <th>321</th>\n",
              "      <td>Chainring Nut</td>\n",
              "      <td>CN-6137</td>\n",
              "      <td>0</td>\n",
              "      <td>0</td>\n",
              "      <td>Silver</td>\n",
              "      <td>1000</td>\n",
              "      <td>750</td>\n",
              "      <td>0.0</td>\n",
              "      <td>0.0</td>\n",
              "      <td>NaN</td>\n",
              "      <td>NaN</td>\n",
              "      <td>NaN</td>\n",
              "      <td>NaN</td>\n",
              "      <td>0</td>\n",
              "      <td>NaN</td>\n",
              "      <td>NaN</td>\n",
              "      <td>NaN</td>\n",
              "      <td>NaN</td>\n",
              "      <td>NaN</td>\n",
              "      <td>2008-04-30 00:00:00</td>\n",
              "      <td>NaN</td>\n",
              "      <td>NaN</td>\n",
              "      <td>{3314B1D7-EF69-4431-B6DD-DC75268BD5DF}</td>\n",
              "      <td>2014-02-08 10:01:36.827000000</td>\n",
              "    </tr>\n",
              "  </tbody>\n",
              "</table>\n",
              "</div>"
            ],
            "text/plain": [
              "Column                      Name  ...                   ModifiedDate\n",
              "ProductID                         ...                               \n",
              "1                Adjustable Race  ...  2014-02-08 10:01:36.827000000\n",
              "2                   Bearing Ball  ...  2014-02-08 10:01:36.827000000\n",
              "3                BB Ball Bearing  ...  2014-02-08 10:01:36.827000000\n",
              "4          Headset Ball Bearings  ...  2014-02-08 10:01:36.827000000\n",
              "316                        Blade  ...  2014-02-08 10:01:36.827000000\n",
              "317                  LL Crankarm  ...  2014-02-08 10:01:36.827000000\n",
              "318                  ML Crankarm  ...  2014-02-08 10:01:36.827000000\n",
              "319                  HL Crankarm  ...  2014-02-08 10:01:36.827000000\n",
              "320              Chainring Bolts  ...  2014-02-08 10:01:36.827000000\n",
              "321                Chainring Nut  ...  2014-02-08 10:01:36.827000000\n",
              "\n",
              "[10 rows x 24 columns]"
            ]
          },
          "metadata": {
            "tags": []
          },
          "execution_count": 18
        }
      ]
    },
    {
      "cell_type": "markdown",
      "metadata": {
        "id": "_bUOQ_OLDda3",
        "colab_type": "text"
      },
      "source": [
        "But wait! There's more! We can reference any other data or formulas we want with the imputation (the value we fill the nulls with). This is very handy if you want to impute with the average or median of that column... or even another column altogether! Here are two examples where we will the nulls of `Weight` with the average value from the same column and then another column. This has no practical value in this application, but immense value in other applications."
      ]
    },
    {
      "cell_type": "code",
      "metadata": {
        "id": "bgV_d-zHDda4",
        "colab_type": "code",
        "colab": {
          "base_uri": "https://localhost:8080/",
          "height": 35
        },
        "outputId": "e6cbf93b-3c08-4a39-bc59-7c2328a41e1f"
      },
      "source": [
        "# use an average value from the same column \n",
        "ave = prod['Weight'].mean()\n",
        "print(ave)\n"
      ],
      "execution_count": null,
      "outputs": [
        {
          "output_type": "stream",
          "text": [
            "74.06921951219512\n"
          ],
          "name": "stdout"
        }
      ]
    },
    {
      "cell_type": "code",
      "metadata": {
        "id": "iHnQ6PJBDda6",
        "colab_type": "code",
        "colab": {
          "base_uri": "https://localhost:8080/",
          "height": 168
        },
        "outputId": "5f602b7f-bbfe-4510-b412-3d9e14a2239e"
      },
      "source": [
        "# use an average value from the same column \n",
        "prod['Weight2']=prod['Weight'].copy()\n",
        "prod.fillna(value={'Weight2': ave}, inplace=True)\n",
        "prod[['Weight', 'Weight2']].head(3)"
      ],
      "execution_count": null,
      "outputs": [
        {
          "output_type": "execute_result",
          "data": {
            "text/html": [
              "<div>\n",
              "<style scoped>\n",
              "    .dataframe tbody tr th:only-of-type {\n",
              "        vertical-align: middle;\n",
              "    }\n",
              "\n",
              "    .dataframe tbody tr th {\n",
              "        vertical-align: top;\n",
              "    }\n",
              "\n",
              "    .dataframe thead th {\n",
              "        text-align: right;\n",
              "    }\n",
              "</style>\n",
              "<table border=\"1\" class=\"dataframe\">\n",
              "  <thead>\n",
              "    <tr style=\"text-align: right;\">\n",
              "      <th>Column</th>\n",
              "      <th>Weight</th>\n",
              "      <th>Weight2</th>\n",
              "    </tr>\n",
              "    <tr>\n",
              "      <th>ProductID</th>\n",
              "      <th></th>\n",
              "      <th></th>\n",
              "    </tr>\n",
              "  </thead>\n",
              "  <tbody>\n",
              "    <tr>\n",
              "      <th>1</th>\n",
              "      <td>NaN</td>\n",
              "      <td>74.06922</td>\n",
              "    </tr>\n",
              "    <tr>\n",
              "      <th>2</th>\n",
              "      <td>NaN</td>\n",
              "      <td>74.06922</td>\n",
              "    </tr>\n",
              "    <tr>\n",
              "      <th>3</th>\n",
              "      <td>NaN</td>\n",
              "      <td>74.06922</td>\n",
              "    </tr>\n",
              "  </tbody>\n",
              "</table>\n",
              "</div>"
            ],
            "text/plain": [
              "Column     Weight   Weight2\n",
              "ProductID                  \n",
              "1             NaN  74.06922\n",
              "2             NaN  74.06922\n",
              "3             NaN  74.06922"
            ]
          },
          "metadata": {
            "tags": []
          },
          "execution_count": 20
        }
      ]
    },
    {
      "cell_type": "code",
      "metadata": {
        "id": "nNbwsl-EDda8",
        "colab_type": "code",
        "colab": {
          "base_uri": "https://localhost:8080/",
          "height": 168
        },
        "outputId": "03ac1f08-761d-41c5-b2f0-bda8396880d1"
      },
      "source": [
        "# use an average value from another column \n",
        "ave = prod['ListPrice'].mean()\n",
        "prod['Weight3']=prod['Weight'].copy()\n",
        "prod.fillna(value={'Weight3': ave}, inplace=True)\n",
        "prod[['Weight', 'Weight3']].head(3)"
      ],
      "execution_count": null,
      "outputs": [
        {
          "output_type": "execute_result",
          "data": {
            "text/html": [
              "<div>\n",
              "<style scoped>\n",
              "    .dataframe tbody tr th:only-of-type {\n",
              "        vertical-align: middle;\n",
              "    }\n",
              "\n",
              "    .dataframe tbody tr th {\n",
              "        vertical-align: top;\n",
              "    }\n",
              "\n",
              "    .dataframe thead th {\n",
              "        text-align: right;\n",
              "    }\n",
              "</style>\n",
              "<table border=\"1\" class=\"dataframe\">\n",
              "  <thead>\n",
              "    <tr style=\"text-align: right;\">\n",
              "      <th>Column</th>\n",
              "      <th>Weight</th>\n",
              "      <th>Weight3</th>\n",
              "    </tr>\n",
              "    <tr>\n",
              "      <th>ProductID</th>\n",
              "      <th></th>\n",
              "      <th></th>\n",
              "    </tr>\n",
              "  </thead>\n",
              "  <tbody>\n",
              "    <tr>\n",
              "      <th>1</th>\n",
              "      <td>NaN</td>\n",
              "      <td>438.66625</td>\n",
              "    </tr>\n",
              "    <tr>\n",
              "      <th>2</th>\n",
              "      <td>NaN</td>\n",
              "      <td>438.66625</td>\n",
              "    </tr>\n",
              "    <tr>\n",
              "      <th>3</th>\n",
              "      <td>NaN</td>\n",
              "      <td>438.66625</td>\n",
              "    </tr>\n",
              "  </tbody>\n",
              "</table>\n",
              "</div>"
            ],
            "text/plain": [
              "Column     Weight    Weight3\n",
              "ProductID                   \n",
              "1             NaN  438.66625\n",
              "2             NaN  438.66625\n",
              "3             NaN  438.66625"
            ]
          },
          "metadata": {
            "tags": []
          },
          "execution_count": 21
        }
      ]
    },
    {
      "cell_type": "markdown",
      "metadata": {
        "id": "sNed7DwtDda_",
        "colab_type": "text"
      },
      "source": [
        "### More tricks about missing data"
      ]
    },
    {
      "cell_type": "code",
      "metadata": {
        "id": "JYZqMHn7Dda_",
        "colab_type": "code",
        "colab": {
          "base_uri": "https://localhost:8080/",
          "height": 104
        },
        "outputId": "2d79cefe-e208-415d-da90-875421c0c36a"
      },
      "source": [
        "# A method for looking at an individual\n",
        "prod['Style'].sample(3)"
      ],
      "execution_count": null,
      "outputs": [
        {
          "output_type": "execute_result",
          "data": {
            "text/plain": [
              "ProductID\n",
              "744     U \n",
              "875     U \n",
              "413    NaN\n",
              "Name: Style, dtype: object"
            ]
          },
          "metadata": {
            "tags": []
          },
          "execution_count": 22
        }
      ]
    },
    {
      "cell_type": "code",
      "metadata": {
        "id": "79k7oHixDdbB",
        "colab_type": "code",
        "colab": {
          "base_uri": "https://localhost:8080/",
          "height": 35
        },
        "outputId": "a272b6bf-980d-4d88-a706-988aa1422064"
      },
      "source": [
        "# I can use indexing to call an individual cell\n",
        "prod['Style'][744]"
      ],
      "execution_count": null,
      "outputs": [
        {
          "output_type": "execute_result",
          "data": {
            "application/vnd.google.colaboratory.intrinsic": {
              "type": "string"
            },
            "text/plain": [
              "'Nationals'"
            ]
          },
          "metadata": {
            "tags": []
          },
          "execution_count": 50
        }
      ]
    },
    {
      "cell_type": "code",
      "metadata": {
        "id": "eM-8u_hvDdbE",
        "colab_type": "code",
        "colab": {
          "base_uri": "https://localhost:8080/",
          "height": 124
        },
        "outputId": "e61f5ad6-a09f-4873-d5ad-0ef8df0a31f7"
      },
      "source": [
        "# But ... what if I want to manipulate that cell?\n",
        "prod['Style'][744] = 'Nationals'"
      ],
      "execution_count": null,
      "outputs": [
        {
          "output_type": "stream",
          "text": [
            "/usr/local/lib/python3.6/dist-packages/ipykernel_launcher.py:2: SettingWithCopyWarning: \n",
            "A value is trying to be set on a copy of a slice from a DataFrame\n",
            "\n",
            "See the caveats in the documentation: https://pandas.pydata.org/pandas-docs/stable/user_guide/indexing.html#returning-a-view-versus-a-copy\n",
            "  \n"
          ],
          "name": "stderr"
        }
      ]
    },
    {
      "cell_type": "code",
      "metadata": {
        "id": "ZtEXfqYZDdbG",
        "colab_type": "code",
        "colab": {
          "base_uri": "https://localhost:8080/",
          "height": 35
        },
        "outputId": "9b819c15-2a97-44d3-8b23-4c2b292bb325"
      },
      "source": [
        "# There's another way to call a single cell\n",
        "prod.loc[424, 'Style'] = 'Unisex'\n",
        "prod.loc[424, 'Style'] "
      ],
      "execution_count": null,
      "outputs": [
        {
          "output_type": "execute_result",
          "data": {
            "application/vnd.google.colaboratory.intrinsic": {
              "type": "string"
            },
            "text/plain": [
              "'Unisex'"
            ]
          },
          "metadata": {
            "tags": []
          },
          "execution_count": 25
        }
      ]
    },
    {
      "cell_type": "code",
      "metadata": {
        "id": "Fyx2XaMtDdbI",
        "colab_type": "code",
        "colab": {
          "base_uri": "https://localhost:8080/",
          "height": 35
        },
        "outputId": "03201889-b1bd-478f-c4b4-e3fee292927a"
      },
      "source": [
        "# but... what if it's a null value?\n",
        "prod.loc[2, 'Style'] "
      ],
      "execution_count": null,
      "outputs": [
        {
          "output_type": "execute_result",
          "data": {
            "text/plain": [
              "nan"
            ]
          },
          "metadata": {
            "tags": []
          },
          "execution_count": 26
        }
      ]
    },
    {
      "cell_type": "code",
      "metadata": {
        "id": "yISyIxkPDdbK",
        "colab_type": "code",
        "colab": {
          "base_uri": "https://localhost:8080/",
          "height": 35
        },
        "outputId": "93d516c6-253f-4983-ada7-83c8254e9a5c"
      },
      "source": [
        "# what is the cell type?\n",
        "type(prod.loc[2, 'Style'] )"
      ],
      "execution_count": null,
      "outputs": [
        {
          "output_type": "execute_result",
          "data": {
            "text/plain": [
              "float"
            ]
          },
          "metadata": {
            "tags": []
          },
          "execution_count": 27
        }
      ]
    },
    {
      "cell_type": "code",
      "metadata": {
        "id": "4mjBMPEpDdbM",
        "colab_type": "code",
        "colab": {
          "base_uri": "https://localhost:8080/",
          "height": 35
        },
        "outputId": "ce40ff2d-a045-4bce-d47e-61c428b6d98f"
      },
      "source": [
        "# a few methods for testing for missing data\n",
        "pd.isnull(prod.loc[2, 'Style'] )"
      ],
      "execution_count": null,
      "outputs": [
        {
          "output_type": "execute_result",
          "data": {
            "text/plain": [
              "True"
            ]
          },
          "metadata": {
            "tags": []
          },
          "execution_count": 28
        }
      ]
    },
    {
      "cell_type": "code",
      "metadata": {
        "id": "RqLvCWf3DdbO",
        "colab_type": "code",
        "colab": {
          "base_uri": "https://localhost:8080/",
          "height": 35
        },
        "outputId": "8c7ab70f-bf70-41d7-ad02-e0f21c3e06e3"
      },
      "source": [
        "pd.isna(prod.loc[2, 'Style'] )"
      ],
      "execution_count": null,
      "outputs": [
        {
          "output_type": "execute_result",
          "data": {
            "text/plain": [
              "True"
            ]
          },
          "metadata": {
            "tags": []
          },
          "execution_count": 29
        }
      ]
    },
    {
      "cell_type": "code",
      "metadata": {
        "id": "-uc5ANavDdbQ",
        "colab_type": "code",
        "colab": {
          "base_uri": "https://localhost:8080/",
          "height": 35
        },
        "outputId": "eab271ed-3f4c-4f8b-b7dd-e3bbba2ef01c"
      },
      "source": [
        "np.isnan(prod.loc[2, 'Style'] )"
      ],
      "execution_count": null,
      "outputs": [
        {
          "output_type": "execute_result",
          "data": {
            "text/plain": [
              "True"
            ]
          },
          "metadata": {
            "tags": []
          },
          "execution_count": 30
        }
      ]
    },
    {
      "cell_type": "code",
      "metadata": {
        "id": "_jnXjf-8DdbS",
        "colab_type": "code",
        "colab": {}
      },
      "source": [
        "# Let's reassign as \"None\"\n",
        "prod.loc[2, 'Style'] = None\n",
        "prod.loc[2, 'Style'] "
      ],
      "execution_count": null,
      "outputs": []
    },
    {
      "cell_type": "code",
      "metadata": {
        "id": "4IZcbClyDdbU",
        "colab_type": "code",
        "colab": {
          "base_uri": "https://localhost:8080/",
          "height": 35
        },
        "outputId": "3eebf82c-caf3-4dc6-9c5f-34188dfe8d40"
      },
      "source": [
        "type(prod.loc[2, 'Style'] )"
      ],
      "execution_count": null,
      "outputs": [
        {
          "output_type": "execute_result",
          "data": {
            "text/plain": [
              "NoneType"
            ]
          },
          "metadata": {
            "tags": []
          },
          "execution_count": 32
        }
      ]
    },
    {
      "cell_type": "code",
      "metadata": {
        "id": "KzUYD6CWDdbW",
        "colab_type": "code",
        "colab": {
          "base_uri": "https://localhost:8080/",
          "height": 35
        },
        "outputId": "63b66490-2891-48fb-e8ca-0da390955f70"
      },
      "source": [
        "pd.isnull(prod.loc[2, 'Style'] )"
      ],
      "execution_count": null,
      "outputs": [
        {
          "output_type": "execute_result",
          "data": {
            "text/plain": [
              "True"
            ]
          },
          "metadata": {
            "tags": []
          },
          "execution_count": 33
        }
      ]
    },
    {
      "cell_type": "code",
      "metadata": {
        "id": "BpxV1UlDDdbZ",
        "colab_type": "code",
        "colab": {}
      },
      "source": [
        "prod.loc[2, 'Style'] == np.nan\n",
        "prod.loc[2, 'Style'] "
      ],
      "execution_count": null,
      "outputs": []
    },
    {
      "cell_type": "code",
      "metadata": {
        "id": "v-0mt358Ddbb",
        "colab_type": "code",
        "colab": {
          "base_uri": "https://localhost:8080/",
          "height": 35
        },
        "outputId": "73011f4d-5285-4aea-a01f-e8b1a7da5db6"
      },
      "source": [
        "type(prod.loc[2, 'Style'] )"
      ],
      "execution_count": null,
      "outputs": [
        {
          "output_type": "execute_result",
          "data": {
            "text/plain": [
              "NoneType"
            ]
          },
          "metadata": {
            "tags": []
          },
          "execution_count": 35
        }
      ]
    },
    {
      "cell_type": "markdown",
      "metadata": {
        "id": "2p-KhuhiDdbe",
        "colab_type": "text"
      },
      "source": [
        "Important points:\n",
        "\n",
        "- Don't forget to use the `inplace=True` kwarg to mutate the source dataframe (i.e. 'save changes'). \n",
        "- It is helpful to not use `inplace=True` initially to ensure your code/logic is correct, prior to making permanent changes."
      ]
    },
    {
      "cell_type": "markdown",
      "metadata": {
        "id": "4Awd7RQIDdbf",
        "colab_type": "text"
      },
      "source": [
        "## Groupby Statements\n",
        "\n",
        "In Pandas, groupby statements are similar to pivot tables in that they allow us to segment our population to a specific subset.\n",
        "\n",
        "For example, if we want to know the average number of bottles sold and pack sizes per city, a groupby statement would make this task much more straightforward.\n"
      ]
    },
    {
      "cell_type": "markdown",
      "metadata": {
        "id": "usNnMH3ODdbf",
        "colab_type": "text"
      },
      "source": [
        "To think how a groupby statement works, think about it like this:\n",
        "\n",
        "- **Split:** Separate our DataFrame by a specific attribute, for example, group by `Color`\n",
        "- **Combine:** Put our DataFrame back together and return some _aggregated_ metric, such as the `sum`, `count`, or `max`."
      ]
    },
    {
      "cell_type": "markdown",
      "metadata": {
        "id": "rYB7Dg1WDdbg",
        "colab_type": "text"
      },
      "source": [
        "![](http://i.imgur.com/yjNkiwL.png)"
      ]
    },
    {
      "cell_type": "markdown",
      "metadata": {
        "id": "uvPnYfeiDdbg",
        "colab_type": "text"
      },
      "source": [
        "Let's try it out!"
      ]
    },
    {
      "cell_type": "markdown",
      "metadata": {
        "id": "ZlbwD9FoDdbg",
        "colab_type": "text"
      },
      "source": [
        "Let's group by `Color`, and get a count of products for each color."
      ]
    },
    {
      "cell_type": "code",
      "metadata": {
        "id": "1ne6qE3IDdbh",
        "colab_type": "code",
        "colab": {
          "base_uri": "https://localhost:8080/",
          "height": 368
        },
        "outputId": "e0b35100-780d-417f-88fe-a34d2be9e8d4"
      },
      "source": [
        "# group by Color, giving the average of each color\n",
        "prod.groupby(['Color']).mean()"
      ],
      "execution_count": null,
      "outputs": [
        {
          "output_type": "execute_result",
          "data": {
            "text/html": [
              "<div>\n",
              "<style scoped>\n",
              "    .dataframe tbody tr th:only-of-type {\n",
              "        vertical-align: middle;\n",
              "    }\n",
              "\n",
              "    .dataframe tbody tr th {\n",
              "        vertical-align: top;\n",
              "    }\n",
              "\n",
              "    .dataframe thead th {\n",
              "        text-align: right;\n",
              "    }\n",
              "</style>\n",
              "<table border=\"1\" class=\"dataframe\">\n",
              "  <thead>\n",
              "    <tr style=\"text-align: right;\">\n",
              "      <th>Column</th>\n",
              "      <th>MakeFlag</th>\n",
              "      <th>FinishedGoodsFlag</th>\n",
              "      <th>SafetyStockLevel</th>\n",
              "      <th>ReorderPoint</th>\n",
              "      <th>StandardCost</th>\n",
              "      <th>ListPrice</th>\n",
              "      <th>Weight</th>\n",
              "      <th>DaysToManufacture</th>\n",
              "      <th>ProductSubcategoryID</th>\n",
              "      <th>ProductModelID</th>\n",
              "      <th>DiscontinuedDate</th>\n",
              "      <th>Weight2</th>\n",
              "      <th>Weight3</th>\n",
              "    </tr>\n",
              "    <tr>\n",
              "      <th>Color</th>\n",
              "      <th></th>\n",
              "      <th></th>\n",
              "      <th></th>\n",
              "      <th></th>\n",
              "      <th></th>\n",
              "      <th></th>\n",
              "      <th></th>\n",
              "      <th></th>\n",
              "      <th></th>\n",
              "      <th></th>\n",
              "      <th></th>\n",
              "      <th></th>\n",
              "      <th></th>\n",
              "    </tr>\n",
              "  </thead>\n",
              "  <tbody>\n",
              "    <tr>\n",
              "      <th>Black</th>\n",
              "      <td>0.774194</td>\n",
              "      <td>0.956989</td>\n",
              "      <td>285.677419</td>\n",
              "      <td>214.258065</td>\n",
              "      <td>415.446239</td>\n",
              "      <td>725.121075</td>\n",
              "      <td>123.021250</td>\n",
              "      <td>1.774194</td>\n",
              "      <td>11.292135</td>\n",
              "      <td>29.247191</td>\n",
              "      <td>NaN</td>\n",
              "      <td>107.756638</td>\n",
              "      <td>221.448185</td>\n",
              "    </tr>\n",
              "    <tr>\n",
              "      <th>Blue</th>\n",
              "      <td>0.846154</td>\n",
              "      <td>1.000000</td>\n",
              "      <td>223.692308</td>\n",
              "      <td>167.769231</td>\n",
              "      <td>567.159477</td>\n",
              "      <td>923.679231</td>\n",
              "      <td>17.610909</td>\n",
              "      <td>2.346154</td>\n",
              "      <td>11.115385</td>\n",
              "      <td>21.923077</td>\n",
              "      <td>NaN</td>\n",
              "      <td>26.296803</td>\n",
              "      <td>82.388654</td>\n",
              "    </tr>\n",
              "    <tr>\n",
              "      <th>Grey</th>\n",
              "      <td>0.000000</td>\n",
              "      <td>1.000000</td>\n",
              "      <td>4.000000</td>\n",
              "      <td>3.000000</td>\n",
              "      <td>51.562500</td>\n",
              "      <td>125.000000</td>\n",
              "      <td>NaN</td>\n",
              "      <td>0.000000</td>\n",
              "      <td>35.000000</td>\n",
              "      <td>120.000000</td>\n",
              "      <td>NaN</td>\n",
              "      <td>74.069220</td>\n",
              "      <td>438.666250</td>\n",
              "    </tr>\n",
              "    <tr>\n",
              "      <th>Multi</th>\n",
              "      <td>0.000000</td>\n",
              "      <td>1.000000</td>\n",
              "      <td>4.000000</td>\n",
              "      <td>3.000000</td>\n",
              "      <td>34.031775</td>\n",
              "      <td>59.865000</td>\n",
              "      <td>NaN</td>\n",
              "      <td>0.000000</td>\n",
              "      <td>19.625000</td>\n",
              "      <td>10.250000</td>\n",
              "      <td>NaN</td>\n",
              "      <td>74.069220</td>\n",
              "      <td>438.666250</td>\n",
              "    </tr>\n",
              "    <tr>\n",
              "      <th>Red</th>\n",
              "      <td>0.973684</td>\n",
              "      <td>1.000000</td>\n",
              "      <td>276.421053</td>\n",
              "      <td>207.315789</td>\n",
              "      <td>858.178055</td>\n",
              "      <td>1401.950000</td>\n",
              "      <td>10.173784</td>\n",
              "      <td>2.552632</td>\n",
              "      <td>8.131579</td>\n",
              "      <td>19.789474</td>\n",
              "      <td>NaN</td>\n",
              "      <td>11.855243</td>\n",
              "      <td>21.449901</td>\n",
              "    </tr>\n",
              "    <tr>\n",
              "      <th>Silver</th>\n",
              "      <td>0.744186</td>\n",
              "      <td>0.837209</td>\n",
              "      <td>388.465116</td>\n",
              "      <td>291.348837</td>\n",
              "      <td>466.512751</td>\n",
              "      <td>850.305349</td>\n",
              "      <td>40.579412</td>\n",
              "      <td>2.000000</td>\n",
              "      <td>7.027778</td>\n",
              "      <td>31.361111</td>\n",
              "      <td>NaN</td>\n",
              "      <td>47.588906</td>\n",
              "      <td>123.899913</td>\n",
              "    </tr>\n",
              "    <tr>\n",
              "      <th>Silver/Black</th>\n",
              "      <td>0.000000</td>\n",
              "      <td>1.000000</td>\n",
              "      <td>500.000000</td>\n",
              "      <td>375.000000</td>\n",
              "      <td>28.424286</td>\n",
              "      <td>64.018571</td>\n",
              "      <td>187.333333</td>\n",
              "      <td>1.000000</td>\n",
              "      <td>13.000000</td>\n",
              "      <td>64.142857</td>\n",
              "      <td>NaN</td>\n",
              "      <td>171.152746</td>\n",
              "      <td>223.238036</td>\n",
              "    </tr>\n",
              "    <tr>\n",
              "      <th>White</th>\n",
              "      <td>0.000000</td>\n",
              "      <td>1.000000</td>\n",
              "      <td>4.000000</td>\n",
              "      <td>3.000000</td>\n",
              "      <td>3.379300</td>\n",
              "      <td>9.245000</td>\n",
              "      <td>NaN</td>\n",
              "      <td>0.000000</td>\n",
              "      <td>23.000000</td>\n",
              "      <td>21.000000</td>\n",
              "      <td>NaN</td>\n",
              "      <td>74.069220</td>\n",
              "      <td>438.666250</td>\n",
              "    </tr>\n",
              "    <tr>\n",
              "      <th>Yellow</th>\n",
              "      <td>0.888889</td>\n",
              "      <td>1.000000</td>\n",
              "      <td>244.888889</td>\n",
              "      <td>183.666667</td>\n",
              "      <td>597.434781</td>\n",
              "      <td>959.091389</td>\n",
              "      <td>13.820625</td>\n",
              "      <td>2.416667</td>\n",
              "      <td>9.527778</td>\n",
              "      <td>23.888889</td>\n",
              "      <td>NaN</td>\n",
              "      <td>20.514913</td>\n",
              "      <td>61.025694</td>\n",
              "    </tr>\n",
              "  </tbody>\n",
              "</table>\n",
              "</div>"
            ],
            "text/plain": [
              "Column        MakeFlag  FinishedGoodsFlag  ...     Weight2     Weight3\n",
              "Color                                      ...                        \n",
              "Black         0.774194           0.956989  ...  107.756638  221.448185\n",
              "Blue          0.846154           1.000000  ...   26.296803   82.388654\n",
              "Grey          0.000000           1.000000  ...   74.069220  438.666250\n",
              "Multi         0.000000           1.000000  ...   74.069220  438.666250\n",
              "Red           0.973684           1.000000  ...   11.855243   21.449901\n",
              "Silver        0.744186           0.837209  ...   47.588906  123.899913\n",
              "Silver/Black  0.000000           1.000000  ...  171.152746  223.238036\n",
              "White         0.000000           1.000000  ...   74.069220  438.666250\n",
              "Yellow        0.888889           1.000000  ...   20.514913   61.025694\n",
              "\n",
              "[9 rows x 13 columns]"
            ]
          },
          "metadata": {
            "tags": []
          },
          "execution_count": 36
        }
      ]
    },
    {
      "cell_type": "markdown",
      "metadata": {
        "id": "UvkggE5wDdbk",
        "colab_type": "text"
      },
      "source": [
        "What do we notice about this output? Are all columns the same? Why or why not?\n",
        "\n",
        "We can see that the `.count()` method excludes nulls, and there is no way to change this with the current implementation:\n",
        "```python\n",
        "Signature: .count()\n",
        "Docstring: Compute count of group, excluding missing values \n",
        "File:      ~/miniconda3/envs/ga/lib/python3.7/site-packages/pandas/core/groupby/groupby.py\n",
        "Type:      method\n",
        "```\n",
        "\n",
        "As a best practice, you should either:\n",
        "- fill in nulls prior to your .count(), or\n",
        "- use the PK (primary key) of the table, which is guaranteed non-null"
      ]
    },
    {
      "cell_type": "code",
      "metadata": {
        "id": "g3rW69OIDdbk",
        "colab_type": "code",
        "colab": {
          "base_uri": "https://localhost:8080/",
          "height": 207
        },
        "outputId": "f3458900-8851-4e07-acea-3186c5ecf72a"
      },
      "source": [
        "# group by Color, giving the average price of each color\n",
        "prod.groupby(['Color'])['ListPrice'].mean()"
      ],
      "execution_count": null,
      "outputs": [
        {
          "output_type": "execute_result",
          "data": {
            "text/plain": [
              "Color\n",
              "Black            725.121075\n",
              "Blue             923.679231\n",
              "Grey             125.000000\n",
              "Multi             59.865000\n",
              "Red             1401.950000\n",
              "Silver           850.305349\n",
              "Silver/Black      64.018571\n",
              "White              9.245000\n",
              "Yellow           959.091389\n",
              "Name: ListPrice, dtype: float64"
            ]
          },
          "metadata": {
            "tags": []
          },
          "execution_count": 37
        }
      ]
    },
    {
      "cell_type": "markdown",
      "metadata": {
        "id": "PJINg7uYDdbn",
        "colab_type": "text"
      },
      "source": [
        "Let's find out the most expensive price for an item, by `Color`:"
      ]
    },
    {
      "cell_type": "code",
      "metadata": {
        "id": "pE154h16Ddbo",
        "colab_type": "code",
        "colab": {
          "base_uri": "https://localhost:8080/",
          "height": 348
        },
        "outputId": "c05f7913-058f-4408-bee2-a5acdb0b3aac"
      },
      "source": [
        "prod[['Color', 'ListPrice']].groupby('Color').max().sort_values('ListPrice', ascending=False)"
      ],
      "execution_count": null,
      "outputs": [
        {
          "output_type": "execute_result",
          "data": {
            "text/html": [
              "<div>\n",
              "<style scoped>\n",
              "    .dataframe tbody tr th:only-of-type {\n",
              "        vertical-align: middle;\n",
              "    }\n",
              "\n",
              "    .dataframe tbody tr th {\n",
              "        vertical-align: top;\n",
              "    }\n",
              "\n",
              "    .dataframe thead th {\n",
              "        text-align: right;\n",
              "    }\n",
              "</style>\n",
              "<table border=\"1\" class=\"dataframe\">\n",
              "  <thead>\n",
              "    <tr style=\"text-align: right;\">\n",
              "      <th>Column</th>\n",
              "      <th>ListPrice</th>\n",
              "    </tr>\n",
              "    <tr>\n",
              "      <th>Color</th>\n",
              "      <th></th>\n",
              "    </tr>\n",
              "  </thead>\n",
              "  <tbody>\n",
              "    <tr>\n",
              "      <th>Red</th>\n",
              "      <td>3578.27</td>\n",
              "    </tr>\n",
              "    <tr>\n",
              "      <th>Silver</th>\n",
              "      <td>3399.99</td>\n",
              "    </tr>\n",
              "    <tr>\n",
              "      <th>Black</th>\n",
              "      <td>3374.99</td>\n",
              "    </tr>\n",
              "    <tr>\n",
              "      <th>Blue</th>\n",
              "      <td>2384.07</td>\n",
              "    </tr>\n",
              "    <tr>\n",
              "      <th>Yellow</th>\n",
              "      <td>2384.07</td>\n",
              "    </tr>\n",
              "    <tr>\n",
              "      <th>Grey</th>\n",
              "      <td>125.00</td>\n",
              "    </tr>\n",
              "    <tr>\n",
              "      <th>Multi</th>\n",
              "      <td>89.99</td>\n",
              "    </tr>\n",
              "    <tr>\n",
              "      <th>Silver/Black</th>\n",
              "      <td>80.99</td>\n",
              "    </tr>\n",
              "    <tr>\n",
              "      <th>White</th>\n",
              "      <td>9.50</td>\n",
              "    </tr>\n",
              "  </tbody>\n",
              "</table>\n",
              "</div>"
            ],
            "text/plain": [
              "Column        ListPrice\n",
              "Color                  \n",
              "Red             3578.27\n",
              "Silver          3399.99\n",
              "Black           3374.99\n",
              "Blue            2384.07\n",
              "Yellow          2384.07\n",
              "Grey             125.00\n",
              "Multi             89.99\n",
              "Silver/Black      80.99\n",
              "White              9.50"
            ]
          },
          "metadata": {
            "tags": []
          },
          "execution_count": 38
        }
      ]
    },
    {
      "cell_type": "markdown",
      "metadata": {
        "id": "yzxKnrbjDdbt",
        "colab_type": "text"
      },
      "source": [
        "We can also do multi-level groupbys. This is referred to as a `Multiindex` dataframe. Here, we can see the following fields in a nested group by, with a count of Name (with nulls filled!); effectively giving us a count of the number of products for every unique Class/Style combination:\n",
        "\n",
        "- Class - H = High, M = Medium, L = Low\n",
        "- Style - W = Womens, M = Mens, U = Universal"
      ]
    },
    {
      "cell_type": "code",
      "metadata": {
        "id": "mgvaDCKWDdbu",
        "colab_type": "code",
        "colab": {
          "base_uri": "https://localhost:8080/",
          "height": 198
        },
        "outputId": "00ade10e-3797-447c-bb3e-e8cf9859e9d9"
      },
      "source": [
        "prod.fillna(value={'Name': 'x'}).groupby(by=['Class', 'Style']).count()[['Name']]"
      ],
      "execution_count": null,
      "outputs": [
        {
          "output_type": "execute_result",
          "data": {
            "text/html": [
              "<div>\n",
              "<style scoped>\n",
              "    .dataframe tbody tr th:only-of-type {\n",
              "        vertical-align: middle;\n",
              "    }\n",
              "\n",
              "    .dataframe tbody tr th {\n",
              "        vertical-align: top;\n",
              "    }\n",
              "\n",
              "    .dataframe thead th {\n",
              "        text-align: right;\n",
              "    }\n",
              "</style>\n",
              "<table border=\"1\" class=\"dataframe\">\n",
              "  <thead>\n",
              "    <tr style=\"text-align: right;\">\n",
              "      <th></th>\n",
              "      <th>Column</th>\n",
              "      <th>Name</th>\n",
              "    </tr>\n",
              "    <tr>\n",
              "      <th>Class</th>\n",
              "      <th>Style</th>\n",
              "      <th></th>\n",
              "    </tr>\n",
              "  </thead>\n",
              "  <tbody>\n",
              "    <tr>\n",
              "      <th>H</th>\n",
              "      <th>U</th>\n",
              "      <td>64</td>\n",
              "    </tr>\n",
              "    <tr>\n",
              "      <th>L</th>\n",
              "      <th>U</th>\n",
              "      <td>68</td>\n",
              "    </tr>\n",
              "    <tr>\n",
              "      <th rowspan=\"2\" valign=\"top\">M</th>\n",
              "      <th>U</th>\n",
              "      <td>22</td>\n",
              "    </tr>\n",
              "    <tr>\n",
              "      <th>W</th>\n",
              "      <td>22</td>\n",
              "    </tr>\n",
              "  </tbody>\n",
              "</table>\n",
              "</div>"
            ],
            "text/plain": [
              "Column       Name\n",
              "Class Style      \n",
              "H     U        64\n",
              "L     U        68\n",
              "M     U        22\n",
              "      W        22"
            ]
          },
          "metadata": {
            "tags": []
          },
          "execution_count": 39
        }
      ]
    },
    {
      "cell_type": "markdown",
      "metadata": {
        "id": "Fq9Dah6HDdb0",
        "colab_type": "text"
      },
      "source": [
        "We can also use the `.agg()` method with multiple arguments, to simulate a `.describe()` method like we used before:"
      ]
    },
    {
      "cell_type": "code",
      "metadata": {
        "id": "EmV-8egIDdb1",
        "colab_type": "code",
        "colab": {
          "base_uri": "https://localhost:8080/",
          "height": 348
        },
        "outputId": "35db3d19-be4f-4a94-b4c0-1b5dcd080d46"
      },
      "source": [
        "prod.groupby('Color')['ListPrice'].agg(['count', 'mean', 'min', 'max'])"
      ],
      "execution_count": null,
      "outputs": [
        {
          "output_type": "execute_result",
          "data": {
            "text/html": [
              "<div>\n",
              "<style scoped>\n",
              "    .dataframe tbody tr th:only-of-type {\n",
              "        vertical-align: middle;\n",
              "    }\n",
              "\n",
              "    .dataframe tbody tr th {\n",
              "        vertical-align: top;\n",
              "    }\n",
              "\n",
              "    .dataframe thead th {\n",
              "        text-align: right;\n",
              "    }\n",
              "</style>\n",
              "<table border=\"1\" class=\"dataframe\">\n",
              "  <thead>\n",
              "    <tr style=\"text-align: right;\">\n",
              "      <th></th>\n",
              "      <th>count</th>\n",
              "      <th>mean</th>\n",
              "      <th>min</th>\n",
              "      <th>max</th>\n",
              "    </tr>\n",
              "    <tr>\n",
              "      <th>Color</th>\n",
              "      <th></th>\n",
              "      <th></th>\n",
              "      <th></th>\n",
              "      <th></th>\n",
              "    </tr>\n",
              "  </thead>\n",
              "  <tbody>\n",
              "    <tr>\n",
              "      <th>Black</th>\n",
              "      <td>93</td>\n",
              "      <td>725.121075</td>\n",
              "      <td>0.00</td>\n",
              "      <td>3374.99</td>\n",
              "    </tr>\n",
              "    <tr>\n",
              "      <th>Blue</th>\n",
              "      <td>26</td>\n",
              "      <td>923.679231</td>\n",
              "      <td>34.99</td>\n",
              "      <td>2384.07</td>\n",
              "    </tr>\n",
              "    <tr>\n",
              "      <th>Grey</th>\n",
              "      <td>1</td>\n",
              "      <td>125.000000</td>\n",
              "      <td>125.00</td>\n",
              "      <td>125.00</td>\n",
              "    </tr>\n",
              "    <tr>\n",
              "      <th>Multi</th>\n",
              "      <td>8</td>\n",
              "      <td>59.865000</td>\n",
              "      <td>8.99</td>\n",
              "      <td>89.99</td>\n",
              "    </tr>\n",
              "    <tr>\n",
              "      <th>Red</th>\n",
              "      <td>38</td>\n",
              "      <td>1401.950000</td>\n",
              "      <td>34.99</td>\n",
              "      <td>3578.27</td>\n",
              "    </tr>\n",
              "    <tr>\n",
              "      <th>Silver</th>\n",
              "      <td>43</td>\n",
              "      <td>850.305349</td>\n",
              "      <td>0.00</td>\n",
              "      <td>3399.99</td>\n",
              "    </tr>\n",
              "    <tr>\n",
              "      <th>Silver/Black</th>\n",
              "      <td>7</td>\n",
              "      <td>64.018571</td>\n",
              "      <td>40.49</td>\n",
              "      <td>80.99</td>\n",
              "    </tr>\n",
              "    <tr>\n",
              "      <th>White</th>\n",
              "      <td>4</td>\n",
              "      <td>9.245000</td>\n",
              "      <td>8.99</td>\n",
              "      <td>9.50</td>\n",
              "    </tr>\n",
              "    <tr>\n",
              "      <th>Yellow</th>\n",
              "      <td>36</td>\n",
              "      <td>959.091389</td>\n",
              "      <td>53.99</td>\n",
              "      <td>2384.07</td>\n",
              "    </tr>\n",
              "  </tbody>\n",
              "</table>\n",
              "</div>"
            ],
            "text/plain": [
              "              count         mean     min      max\n",
              "Color                                            \n",
              "Black            93   725.121075    0.00  3374.99\n",
              "Blue             26   923.679231   34.99  2384.07\n",
              "Grey              1   125.000000  125.00   125.00\n",
              "Multi             8    59.865000    8.99    89.99\n",
              "Red              38  1401.950000   34.99  3578.27\n",
              "Silver           43   850.305349    0.00  3399.99\n",
              "Silver/Black      7    64.018571   40.49    80.99\n",
              "White             4     9.245000    8.99     9.50\n",
              "Yellow           36   959.091389   53.99  2384.07"
            ]
          },
          "metadata": {
            "tags": []
          },
          "execution_count": 40
        }
      ]
    },
    {
      "cell_type": "markdown",
      "metadata": {
        "id": "xq19UnsMDdb5",
        "colab_type": "text"
      },
      "source": [
        "## Apply functions for column operations\n",
        "\n",
        "Apply functions allow us to perform a complex operation across an entire columns highly efficiently."
      ]
    },
    {
      "cell_type": "markdown",
      "metadata": {
        "id": "aUNldybADdb5",
        "colab_type": "text"
      },
      "source": [
        "For example, let's say we want to change our colors from a word, to just a single letter. How would we do that?\n",
        "\n",
        "The first step is writing a function, with the argument being the value we would receive from each cell in the column. This function will mutate the input, and return the result. This result will then be _applied_ to the source dataframe (if desired)."
      ]
    },
    {
      "cell_type": "code",
      "metadata": {
        "id": "o-Y9jhhhDdb6",
        "colab_type": "code",
        "colab": {
          "base_uri": "https://localhost:8080/",
          "height": 52
        },
        "outputId": "9a34df92-c227-4561-86e2-1014040e690d"
      },
      "source": [
        "# what colors are there?\n",
        "prod['Color'].unique()"
      ],
      "execution_count": null,
      "outputs": [
        {
          "output_type": "execute_result",
          "data": {
            "text/plain": [
              "array([nan, 'Black', 'Silver', 'Red', 'White', 'Blue', 'Multi', 'Yellow',\n",
              "       'Grey', 'Silver/Black'], dtype=object)"
            ]
          },
          "metadata": {
            "tags": []
          },
          "execution_count": 41
        }
      ]
    },
    {
      "cell_type": "code",
      "metadata": {
        "id": "PH2pwjUYDdb9",
        "colab_type": "code",
        "colab": {}
      },
      "source": [
        "# write a function to map a single color to a new value\n",
        "def color_converter(row):\n",
        "    if (row=='Red') | (row=='White') :\n",
        "        return 'Stripes'\n",
        "    elif row=='Blue':\n",
        "        return 'Stars'\n",
        "    else:\n",
        "        return row"
      ],
      "execution_count": null,
      "outputs": []
    },
    {
      "cell_type": "code",
      "metadata": {
        "id": "NULrPND2DdcA",
        "colab_type": "code",
        "colab": {
          "base_uri": "https://localhost:8080/",
          "height": 378
        },
        "outputId": "876079fd-ec68-4c52-e190-38851429154b"
      },
      "source": [
        "# apply that function\n",
        "prod['NewColor'] = prod['Color'].apply(color_converter)\n",
        "prod[['Color','NewColor']].sample(10)"
      ],
      "execution_count": null,
      "outputs": [
        {
          "output_type": "execute_result",
          "data": {
            "text/html": [
              "<div>\n",
              "<style scoped>\n",
              "    .dataframe tbody tr th:only-of-type {\n",
              "        vertical-align: middle;\n",
              "    }\n",
              "\n",
              "    .dataframe tbody tr th {\n",
              "        vertical-align: top;\n",
              "    }\n",
              "\n",
              "    .dataframe thead th {\n",
              "        text-align: right;\n",
              "    }\n",
              "</style>\n",
              "<table border=\"1\" class=\"dataframe\">\n",
              "  <thead>\n",
              "    <tr style=\"text-align: right;\">\n",
              "      <th>Column</th>\n",
              "      <th>Color</th>\n",
              "      <th>NewColor</th>\n",
              "    </tr>\n",
              "    <tr>\n",
              "      <th>ProductID</th>\n",
              "      <th></th>\n",
              "      <th></th>\n",
              "    </tr>\n",
              "  </thead>\n",
              "  <tbody>\n",
              "    <tr>\n",
              "      <th>761</th>\n",
              "      <td>Red</td>\n",
              "      <td>Stripes</td>\n",
              "    </tr>\n",
              "    <tr>\n",
              "      <th>460</th>\n",
              "      <td>NaN</td>\n",
              "      <td>NaN</td>\n",
              "    </tr>\n",
              "    <tr>\n",
              "      <th>756</th>\n",
              "      <td>Red</td>\n",
              "      <td>Stripes</td>\n",
              "    </tr>\n",
              "    <tr>\n",
              "      <th>349</th>\n",
              "      <td>NaN</td>\n",
              "      <td>NaN</td>\n",
              "    </tr>\n",
              "    <tr>\n",
              "      <th>934</th>\n",
              "      <td>NaN</td>\n",
              "      <td>NaN</td>\n",
              "    </tr>\n",
              "    <tr>\n",
              "      <th>721</th>\n",
              "      <td>Red</td>\n",
              "      <td>Stripes</td>\n",
              "    </tr>\n",
              "    <tr>\n",
              "      <th>459</th>\n",
              "      <td>NaN</td>\n",
              "      <td>NaN</td>\n",
              "    </tr>\n",
              "    <tr>\n",
              "      <th>937</th>\n",
              "      <td>Silver/Black</td>\n",
              "      <td>Silver/Black</td>\n",
              "    </tr>\n",
              "    <tr>\n",
              "      <th>938</th>\n",
              "      <td>Silver/Black</td>\n",
              "      <td>Silver/Black</td>\n",
              "    </tr>\n",
              "    <tr>\n",
              "      <th>384</th>\n",
              "      <td>NaN</td>\n",
              "      <td>NaN</td>\n",
              "    </tr>\n",
              "  </tbody>\n",
              "</table>\n",
              "</div>"
            ],
            "text/plain": [
              "Column            Color      NewColor\n",
              "ProductID                            \n",
              "761                 Red       Stripes\n",
              "460                 NaN           NaN\n",
              "756                 Red       Stripes\n",
              "349                 NaN           NaN\n",
              "934                 NaN           NaN\n",
              "721                 Red       Stripes\n",
              "459                 NaN           NaN\n",
              "937        Silver/Black  Silver/Black\n",
              "938        Silver/Black  Silver/Black\n",
              "384                 NaN           NaN"
            ]
          },
          "metadata": {
            "tags": []
          },
          "execution_count": 53
        }
      ]
    },
    {
      "cell_type": "code",
      "metadata": {
        "id": "uRP5CMdzDdcC",
        "colab_type": "code",
        "colab": {}
      },
      "source": [
        "def color_to_letter(color):\n",
        "    # this maps the original color to the color we want it to be\n",
        "    color_dict = {\n",
        "        'Black': 'B',\n",
        "        'Silver': 'S',\n",
        "        'Red': 'R',\n",
        "        'White': 'W',\n",
        "        'Blue': 'B',\n",
        "        'Multi': 'M',\n",
        "        'Yellow': 'Y',\n",
        "        'Grey': 'G',\n",
        "        'Silver/Black': 'V'\n",
        "    }\n",
        "    try:\n",
        "        return color_dict[color]\n",
        "    # this catches nulls, or any other color we haven't\n",
        "    # defined in our color_dict, and fills it with 'N'\n",
        "    except KeyError:\n",
        "        return 'N'"
      ],
      "execution_count": null,
      "outputs": []
    },
    {
      "cell_type": "markdown",
      "metadata": {
        "id": "eq3x9gQnDdcF",
        "colab_type": "text"
      },
      "source": [
        "Now we can _apply_ this function to our `pd.Series` object, returning the result (which we can use to overwrite the source, if we choose)."
      ]
    },
    {
      "cell_type": "code",
      "metadata": {
        "id": "LWp9xDKNDdcF",
        "colab_type": "code",
        "colab": {
          "base_uri": "https://localhost:8080/",
          "height": 378
        },
        "outputId": "d24c89fc-e6a4-465b-e71b-f3c4358dd8fb"
      },
      "source": [
        "prod['NewColor'] = prod['Color'].apply(color_to_letter)\n",
        "prod[['Color','NewColor']].sample(10)"
      ],
      "execution_count": null,
      "outputs": [
        {
          "output_type": "execute_result",
          "data": {
            "text/html": [
              "<div>\n",
              "<style scoped>\n",
              "    .dataframe tbody tr th:only-of-type {\n",
              "        vertical-align: middle;\n",
              "    }\n",
              "\n",
              "    .dataframe tbody tr th {\n",
              "        vertical-align: top;\n",
              "    }\n",
              "\n",
              "    .dataframe thead th {\n",
              "        text-align: right;\n",
              "    }\n",
              "</style>\n",
              "<table border=\"1\" class=\"dataframe\">\n",
              "  <thead>\n",
              "    <tr style=\"text-align: right;\">\n",
              "      <th>Column</th>\n",
              "      <th>Color</th>\n",
              "      <th>NewColor</th>\n",
              "    </tr>\n",
              "    <tr>\n",
              "      <th>ProductID</th>\n",
              "      <th></th>\n",
              "      <th></th>\n",
              "    </tr>\n",
              "  </thead>\n",
              "  <tbody>\n",
              "    <tr>\n",
              "      <th>992</th>\n",
              "      <td>Black</td>\n",
              "      <td>B</td>\n",
              "    </tr>\n",
              "    <tr>\n",
              "      <th>369</th>\n",
              "      <td>NaN</td>\n",
              "      <td>N</td>\n",
              "    </tr>\n",
              "    <tr>\n",
              "      <th>989</th>\n",
              "      <td>Black</td>\n",
              "      <td>B</td>\n",
              "    </tr>\n",
              "    <tr>\n",
              "      <th>924</th>\n",
              "      <td>Black</td>\n",
              "      <td>B</td>\n",
              "    </tr>\n",
              "    <tr>\n",
              "      <th>714</th>\n",
              "      <td>Multi</td>\n",
              "      <td>M</td>\n",
              "    </tr>\n",
              "    <tr>\n",
              "      <th>817</th>\n",
              "      <td>Black</td>\n",
              "      <td>B</td>\n",
              "    </tr>\n",
              "    <tr>\n",
              "      <th>776</th>\n",
              "      <td>Black</td>\n",
              "      <td>B</td>\n",
              "    </tr>\n",
              "    <tr>\n",
              "      <th>439</th>\n",
              "      <td>NaN</td>\n",
              "      <td>N</td>\n",
              "    </tr>\n",
              "    <tr>\n",
              "      <th>438</th>\n",
              "      <td>NaN</td>\n",
              "      <td>N</td>\n",
              "    </tr>\n",
              "    <tr>\n",
              "      <th>468</th>\n",
              "      <td>NaN</td>\n",
              "      <td>N</td>\n",
              "    </tr>\n",
              "  </tbody>\n",
              "</table>\n",
              "</div>"
            ],
            "text/plain": [
              "Column     Color NewColor\n",
              "ProductID                \n",
              "992        Black        B\n",
              "369          NaN        N\n",
              "989        Black        B\n",
              "924        Black        B\n",
              "714        Multi        M\n",
              "817        Black        B\n",
              "776        Black        B\n",
              "439          NaN        N\n",
              "438          NaN        N\n",
              "468          NaN        N"
            ]
          },
          "metadata": {
            "tags": []
          },
          "execution_count": 45
        }
      ]
    },
    {
      "cell_type": "markdown",
      "metadata": {
        "id": "20gTpIYdDdcH",
        "colab_type": "text"
      },
      "source": [
        "The `pd.DataFrame.apply` implementation is similar, however it effectively 'scrolls through' the columns and passes each one sequentially to your function:\n",
        "\n",
        "```python\n",
        "Objects passed to the function are Series objects whose index is\n",
        "either the DataFrame's index (``axis=0``) or the DataFrame's columns\n",
        "(``axis=1``).\n",
        "```\n",
        "\n",
        "It should only be used when you wish to apply the same function to all columns (or rows) of your `pd.DataFrame` object."
      ]
    },
    {
      "cell_type": "markdown",
      "metadata": {
        "id": "qcdE7nVhDdcI",
        "colab_type": "text"
      },
      "source": [
        "We can also use `pd.Series.apply()` with a **labmda expression**. This is an undeclared function and is commonly used for simple functions within the `.apply()` method. Let's use it to add $100 to our `ListPrice` column. Hey, baby needs new shoes!"
      ]
    },
    {
      "cell_type": "code",
      "metadata": {
        "id": "CB3n40b7DdcI",
        "colab_type": "code",
        "colab": {
          "base_uri": "https://localhost:8080/",
          "height": 225
        },
        "outputId": "1269d2ee-1dda-4243-f226-946c024ebef1"
      },
      "source": [
        "# without apply\n",
        "prod['ListPrice'].tail(10)"
      ],
      "execution_count": null,
      "outputs": [
        {
          "output_type": "execute_result",
          "data": {
            "text/plain": [
              "ProductID\n",
              "990    539.99\n",
              "991    539.99\n",
              "992    539.99\n",
              "993    539.99\n",
              "994     53.99\n",
              "995    101.24\n",
              "996    121.49\n",
              "997    539.99\n",
              "998    539.99\n",
              "999    539.99\n",
              "Name: ListPrice, dtype: float64"
            ]
          },
          "metadata": {
            "tags": []
          },
          "execution_count": 46
        }
      ]
    },
    {
      "cell_type": "code",
      "metadata": {
        "id": "Z-1iFAVADdcL",
        "colab_type": "code",
        "colab": {
          "base_uri": "https://localhost:8080/",
          "height": 378
        },
        "outputId": "c7da5ae6-027e-43fd-b737-b4036b46452a"
      },
      "source": [
        "# and now with 100 more dollars!\n",
        "prod['ListPrice2'] = prod['ListPrice'].apply(lambda x: x + 100)\n",
        "prod[['ListPrice','ListPrice2']].tail(10)"
      ],
      "execution_count": null,
      "outputs": [
        {
          "output_type": "execute_result",
          "data": {
            "text/html": [
              "<div>\n",
              "<style scoped>\n",
              "    .dataframe tbody tr th:only-of-type {\n",
              "        vertical-align: middle;\n",
              "    }\n",
              "\n",
              "    .dataframe tbody tr th {\n",
              "        vertical-align: top;\n",
              "    }\n",
              "\n",
              "    .dataframe thead th {\n",
              "        text-align: right;\n",
              "    }\n",
              "</style>\n",
              "<table border=\"1\" class=\"dataframe\">\n",
              "  <thead>\n",
              "    <tr style=\"text-align: right;\">\n",
              "      <th>Column</th>\n",
              "      <th>ListPrice</th>\n",
              "      <th>ListPrice2</th>\n",
              "    </tr>\n",
              "    <tr>\n",
              "      <th>ProductID</th>\n",
              "      <th></th>\n",
              "      <th></th>\n",
              "    </tr>\n",
              "  </thead>\n",
              "  <tbody>\n",
              "    <tr>\n",
              "      <th>990</th>\n",
              "      <td>539.99</td>\n",
              "      <td>639.99</td>\n",
              "    </tr>\n",
              "    <tr>\n",
              "      <th>991</th>\n",
              "      <td>539.99</td>\n",
              "      <td>639.99</td>\n",
              "    </tr>\n",
              "    <tr>\n",
              "      <th>992</th>\n",
              "      <td>539.99</td>\n",
              "      <td>639.99</td>\n",
              "    </tr>\n",
              "    <tr>\n",
              "      <th>993</th>\n",
              "      <td>539.99</td>\n",
              "      <td>639.99</td>\n",
              "    </tr>\n",
              "    <tr>\n",
              "      <th>994</th>\n",
              "      <td>53.99</td>\n",
              "      <td>153.99</td>\n",
              "    </tr>\n",
              "    <tr>\n",
              "      <th>995</th>\n",
              "      <td>101.24</td>\n",
              "      <td>201.24</td>\n",
              "    </tr>\n",
              "    <tr>\n",
              "      <th>996</th>\n",
              "      <td>121.49</td>\n",
              "      <td>221.49</td>\n",
              "    </tr>\n",
              "    <tr>\n",
              "      <th>997</th>\n",
              "      <td>539.99</td>\n",
              "      <td>639.99</td>\n",
              "    </tr>\n",
              "    <tr>\n",
              "      <th>998</th>\n",
              "      <td>539.99</td>\n",
              "      <td>639.99</td>\n",
              "    </tr>\n",
              "    <tr>\n",
              "      <th>999</th>\n",
              "      <td>539.99</td>\n",
              "      <td>639.99</td>\n",
              "    </tr>\n",
              "  </tbody>\n",
              "</table>\n",
              "</div>"
            ],
            "text/plain": [
              "Column     ListPrice  ListPrice2\n",
              "ProductID                       \n",
              "990           539.99      639.99\n",
              "991           539.99      639.99\n",
              "992           539.99      639.99\n",
              "993           539.99      639.99\n",
              "994            53.99      153.99\n",
              "995           101.24      201.24\n",
              "996           121.49      221.49\n",
              "997           539.99      639.99\n",
              "998           539.99      639.99\n",
              "999           539.99      639.99"
            ]
          },
          "metadata": {
            "tags": []
          },
          "execution_count": 47
        }
      ]
    },
    {
      "cell_type": "markdown",
      "metadata": {
        "id": "sq24kPubDdcO",
        "colab_type": "text"
      },
      "source": [
        "## Wrap up\n",
        "\n",
        "We've covered even more useful information! Here are the key takeaways:\n",
        "\n",
        "- **Missing data** comes in many shapes and sizes. Before deciding how to handle it, we identify it exists. We then derive how the missingness is affecting our dataset, and make a determination about how to fill in values.\n",
        "\n",
        "```python\n",
        "# pro tip for identifying missing data\n",
        "df.isnull().sum()\n",
        "```\n",
        "\n",
        "- **Grouby** statements are particularly useful for a subsection-of-interest analysis. Specifically, zooming in on one condition, and determining relevant statstics.\n",
        "\n",
        "```python\n",
        "# group by \n",
        "df.groupby('column').agg['count', 'mean', 'max', 'min']\n",
        "```\n",
        "\n",
        "- **Apply functions** help us clean values across an entire DataFrame column. They are *like* a for loop for cleaning, but many times more efficient. They follow a common pattern:\n",
        "1. Write a function that works on a single value\n",
        "2. Test that function on a single value\n",
        "3. Apply that function to a whole column\n",
        "\n",
        "(The most confusing part of apply functions is that we write them with *a single value* in mind, and then apply them to many single values at once.)"
      ]
    }
  ]
}
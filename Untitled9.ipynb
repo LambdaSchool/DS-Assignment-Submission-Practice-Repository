{
  "nbformat": 4,
  "nbformat_minor": 0,
  "metadata": {
    "colab": {
      "name": "Untitled9.ipynb",
      "provenance": [],
      "collapsed_sections": [],
      "authorship_tag": "ABX9TyOZ8JLq7yqLi1cQL0IiFI+P",
      "include_colab_link": true
    },
    "kernelspec": {
      "name": "python3",
      "display_name": "Python 3"
    }
  },
  "cells": [
    {
      "cell_type": "markdown",
      "metadata": {
        "id": "view-in-github",
        "colab_type": "text"
      },
      "source": [
        "<a href=\"https://colab.research.google.com/github/mikecarrier4/DS-Assignment-Submission-Practice-Repository/blob/master/Untitled9.ipynb\" target=\"_parent\"><img src=\"https://colab.research.google.com/assets/colab-badge.svg\" alt=\"Open In Colab\"/></a>"
      ]
    },
    {
      "cell_type": "code",
      "metadata": {
        "colab": {
          "base_uri": "https://localhost:8080/",
          "height": 574
        },
        "id": "vp01cRdpj1Yh",
        "outputId": "1e78b123-85d5-4d77-d4cc-49777c928d59"
      },
      "source": [
        "import pandas as pd\r\n",
        "import numpy as np\r\n",
        "\r\n",
        "file = 'gini.csv'\r\n",
        "\r\n",
        "df = pd.read_csv(file)\r\n",
        "print(df.head())\r\n",
        "print(df.shape)\r\n",
        "print(df.dtypes)\r\n",
        "\r\n",
        "df_usa = df[df['Country Code'] == 'USA']\r\n",
        "df_usa.reset_index(drop = True)\r\n",
        "\r\n",
        "\r\n"
      ],
      "execution_count": 158,
      "outputs": [
        {
          "output_type": "stream",
          "text": [
            "  Country Name Country Code  Year  Value\n",
            "0      Albania          ALB  1996   27.0\n",
            "1      Albania          ALB  2002   31.7\n",
            "2      Albania          ALB  2005   30.6\n",
            "3      Albania          ALB  2008   30.0\n",
            "4      Albania          ALB  2012   29.0\n",
            "(1378, 4)\n",
            "Country Name     object\n",
            "Country Code     object\n",
            "Year              int64\n",
            "Value           float64\n",
            "dtype: object\n"
          ],
          "name": "stdout"
        },
        {
          "output_type": "execute_result",
          "data": {
            "text/html": [
              "<div>\n",
              "<style scoped>\n",
              "    .dataframe tbody tr th:only-of-type {\n",
              "        vertical-align: middle;\n",
              "    }\n",
              "\n",
              "    .dataframe tbody tr th {\n",
              "        vertical-align: top;\n",
              "    }\n",
              "\n",
              "    .dataframe thead th {\n",
              "        text-align: right;\n",
              "    }\n",
              "</style>\n",
              "<table border=\"1\" class=\"dataframe\">\n",
              "  <thead>\n",
              "    <tr style=\"text-align: right;\">\n",
              "      <th></th>\n",
              "      <th>Country Name</th>\n",
              "      <th>Country Code</th>\n",
              "      <th>Year</th>\n",
              "      <th>Value</th>\n",
              "    </tr>\n",
              "  </thead>\n",
              "  <tbody>\n",
              "    <tr>\n",
              "      <th>0</th>\n",
              "      <td>United States</td>\n",
              "      <td>USA</td>\n",
              "      <td>1979</td>\n",
              "      <td>34.6</td>\n",
              "    </tr>\n",
              "    <tr>\n",
              "      <th>1</th>\n",
              "      <td>United States</td>\n",
              "      <td>USA</td>\n",
              "      <td>1986</td>\n",
              "      <td>37.5</td>\n",
              "    </tr>\n",
              "    <tr>\n",
              "      <th>2</th>\n",
              "      <td>United States</td>\n",
              "      <td>USA</td>\n",
              "      <td>1991</td>\n",
              "      <td>38.2</td>\n",
              "    </tr>\n",
              "    <tr>\n",
              "      <th>3</th>\n",
              "      <td>United States</td>\n",
              "      <td>USA</td>\n",
              "      <td>1994</td>\n",
              "      <td>40.2</td>\n",
              "    </tr>\n",
              "    <tr>\n",
              "      <th>4</th>\n",
              "      <td>United States</td>\n",
              "      <td>USA</td>\n",
              "      <td>1997</td>\n",
              "      <td>40.8</td>\n",
              "    </tr>\n",
              "    <tr>\n",
              "      <th>5</th>\n",
              "      <td>United States</td>\n",
              "      <td>USA</td>\n",
              "      <td>2000</td>\n",
              "      <td>40.4</td>\n",
              "    </tr>\n",
              "    <tr>\n",
              "      <th>6</th>\n",
              "      <td>United States</td>\n",
              "      <td>USA</td>\n",
              "      <td>2004</td>\n",
              "      <td>40.5</td>\n",
              "    </tr>\n",
              "    <tr>\n",
              "      <th>7</th>\n",
              "      <td>United States</td>\n",
              "      <td>USA</td>\n",
              "      <td>2007</td>\n",
              "      <td>41.1</td>\n",
              "    </tr>\n",
              "    <tr>\n",
              "      <th>8</th>\n",
              "      <td>United States</td>\n",
              "      <td>USA</td>\n",
              "      <td>2010</td>\n",
              "      <td>40.4</td>\n",
              "    </tr>\n",
              "    <tr>\n",
              "      <th>9</th>\n",
              "      <td>United States</td>\n",
              "      <td>USA</td>\n",
              "      <td>2013</td>\n",
              "      <td>41.0</td>\n",
              "    </tr>\n",
              "    <tr>\n",
              "      <th>10</th>\n",
              "      <td>United States</td>\n",
              "      <td>USA</td>\n",
              "      <td>2016</td>\n",
              "      <td>41.5</td>\n",
              "    </tr>\n",
              "  </tbody>\n",
              "</table>\n",
              "</div>"
            ],
            "text/plain": [
              "     Country Name Country Code  Year  Value\n",
              "0   United States          USA  1979   34.6\n",
              "1   United States          USA  1986   37.5\n",
              "2   United States          USA  1991   38.2\n",
              "3   United States          USA  1994   40.2\n",
              "4   United States          USA  1997   40.8\n",
              "5   United States          USA  2000   40.4\n",
              "6   United States          USA  2004   40.5\n",
              "7   United States          USA  2007   41.1\n",
              "8   United States          USA  2010   40.4\n",
              "9   United States          USA  2013   41.0\n",
              "10  United States          USA  2016   41.5"
            ]
          },
          "metadata": {
            "tags": []
          },
          "execution_count": 158
        }
      ]
    },
    {
      "cell_type": "code",
      "metadata": {
        "colab": {
          "base_uri": "https://localhost:8080/",
          "height": 669
        },
        "id": "mJlE16GvrvMS",
        "outputId": "60d35ed9-d939-431b-cd3f-ba620b3f4040"
      },
      "source": [
        "file2 = 'fed-funds-rate-historical-chart.csv'\r\n",
        "\r\n",
        "df_fed = pd.read_csv(file2)\r\n",
        "df_fed.head()\r\n",
        "\r\n",
        "df_fed['date'] = pd.to_datetime(df_fed['date'])\r\n",
        "df_fed['Year'] = pd.DatetimeIndex(df_fed['date']).year\r\n",
        "\r\n",
        "pivot_fed = pd.pivot_table(df_fed, index='Year')\r\n",
        "pivot_fed.tail(20)\r\n",
        "#agg function defaulting to mean in this pivot table\r\n",
        "\r\n",
        "\r\n",
        "\r\n"
      ],
      "execution_count": 159,
      "outputs": [
        {
          "output_type": "execute_result",
          "data": {
            "text/html": [
              "<div>\n",
              "<style scoped>\n",
              "    .dataframe tbody tr th:only-of-type {\n",
              "        vertical-align: middle;\n",
              "    }\n",
              "\n",
              "    .dataframe tbody tr th {\n",
              "        vertical-align: top;\n",
              "    }\n",
              "\n",
              "    .dataframe thead th {\n",
              "        text-align: right;\n",
              "    }\n",
              "</style>\n",
              "<table border=\"1\" class=\"dataframe\">\n",
              "  <thead>\n",
              "    <tr style=\"text-align: right;\">\n",
              "      <th></th>\n",
              "      <th>value</th>\n",
              "    </tr>\n",
              "    <tr>\n",
              "      <th>Year</th>\n",
              "      <th></th>\n",
              "    </tr>\n",
              "  </thead>\n",
              "  <tbody>\n",
              "    <tr>\n",
              "      <th>2002</th>\n",
              "      <td>1.666795</td>\n",
              "    </tr>\n",
              "    <tr>\n",
              "      <th>2003</th>\n",
              "      <td>1.126493</td>\n",
              "    </tr>\n",
              "    <tr>\n",
              "      <th>2004</th>\n",
              "      <td>1.350328</td>\n",
              "    </tr>\n",
              "    <tr>\n",
              "      <th>2005</th>\n",
              "      <td>3.217068</td>\n",
              "    </tr>\n",
              "    <tr>\n",
              "      <th>2006</th>\n",
              "      <td>4.965425</td>\n",
              "    </tr>\n",
              "    <tr>\n",
              "      <th>2007</th>\n",
              "      <td>5.017315</td>\n",
              "    </tr>\n",
              "    <tr>\n",
              "      <th>2008</th>\n",
              "      <td>1.924180</td>\n",
              "    </tr>\n",
              "    <tr>\n",
              "      <th>2009</th>\n",
              "      <td>0.158603</td>\n",
              "    </tr>\n",
              "    <tr>\n",
              "      <th>2010</th>\n",
              "      <td>0.176247</td>\n",
              "    </tr>\n",
              "    <tr>\n",
              "      <th>2011</th>\n",
              "      <td>0.101507</td>\n",
              "    </tr>\n",
              "    <tr>\n",
              "      <th>2012</th>\n",
              "      <td>0.140574</td>\n",
              "    </tr>\n",
              "    <tr>\n",
              "      <th>2013</th>\n",
              "      <td>0.107342</td>\n",
              "    </tr>\n",
              "    <tr>\n",
              "      <th>2014</th>\n",
              "      <td>0.088493</td>\n",
              "    </tr>\n",
              "    <tr>\n",
              "      <th>2015</th>\n",
              "      <td>0.133726</td>\n",
              "    </tr>\n",
              "    <tr>\n",
              "      <th>2016</th>\n",
              "      <td>0.393197</td>\n",
              "    </tr>\n",
              "    <tr>\n",
              "      <th>2017</th>\n",
              "      <td>1.001377</td>\n",
              "    </tr>\n",
              "    <tr>\n",
              "      <th>2018</th>\n",
              "      <td>1.789596</td>\n",
              "    </tr>\n",
              "    <tr>\n",
              "      <th>2019</th>\n",
              "      <td>2.163068</td>\n",
              "    </tr>\n",
              "    <tr>\n",
              "      <th>2020</th>\n",
              "      <td>0.362648</td>\n",
              "    </tr>\n",
              "    <tr>\n",
              "      <th>2021</th>\n",
              "      <td>0.081765</td>\n",
              "    </tr>\n",
              "  </tbody>\n",
              "</table>\n",
              "</div>"
            ],
            "text/plain": [
              "         value\n",
              "Year          \n",
              "2002  1.666795\n",
              "2003  1.126493\n",
              "2004  1.350328\n",
              "2005  3.217068\n",
              "2006  4.965425\n",
              "2007  5.017315\n",
              "2008  1.924180\n",
              "2009  0.158603\n",
              "2010  0.176247\n",
              "2011  0.101507\n",
              "2012  0.140574\n",
              "2013  0.107342\n",
              "2014  0.088493\n",
              "2015  0.133726\n",
              "2016  0.393197\n",
              "2017  1.001377\n",
              "2018  1.789596\n",
              "2019  2.163068\n",
              "2020  0.362648\n",
              "2021  0.081765"
            ]
          },
          "metadata": {
            "tags": []
          },
          "execution_count": 159
        }
      ]
    },
    {
      "cell_type": "code",
      "metadata": {
        "colab": {
          "base_uri": "https://localhost:8080/",
          "height": 373
        },
        "id": "OwvyHxPf04Pd",
        "outputId": "23189234-909e-4984-ddd3-4a85e0e29268"
      },
      "source": [
        "#merging of the two data sets usa gini and fed funds rate\r\n",
        "df_usa1 = df_usa.merge(pivot_fed, how = 'inner', on ='Year')\r\n",
        "df_usa1.rename(columns = {'Value': 'Gini', 'value': 'Fed_funds', 'Country Code': 'Code', 'Country Name': 'Country'}, inplace = True)\r\n",
        "df_usa1.head(100)\r\n",
        "\r\n"
      ],
      "execution_count": 160,
      "outputs": [
        {
          "output_type": "execute_result",
          "data": {
            "text/html": [
              "<div>\n",
              "<style scoped>\n",
              "    .dataframe tbody tr th:only-of-type {\n",
              "        vertical-align: middle;\n",
              "    }\n",
              "\n",
              "    .dataframe tbody tr th {\n",
              "        vertical-align: top;\n",
              "    }\n",
              "\n",
              "    .dataframe thead th {\n",
              "        text-align: right;\n",
              "    }\n",
              "</style>\n",
              "<table border=\"1\" class=\"dataframe\">\n",
              "  <thead>\n",
              "    <tr style=\"text-align: right;\">\n",
              "      <th></th>\n",
              "      <th>Country</th>\n",
              "      <th>Code</th>\n",
              "      <th>Year</th>\n",
              "      <th>Gini</th>\n",
              "      <th>value</th>\n",
              "    </tr>\n",
              "  </thead>\n",
              "  <tbody>\n",
              "    <tr>\n",
              "      <th>0</th>\n",
              "      <td>United States</td>\n",
              "      <td>USA</td>\n",
              "      <td>1979</td>\n",
              "      <td>34.6</td>\n",
              "      <td>11.202795</td>\n",
              "    </tr>\n",
              "    <tr>\n",
              "      <th>1</th>\n",
              "      <td>United States</td>\n",
              "      <td>USA</td>\n",
              "      <td>1986</td>\n",
              "      <td>37.5</td>\n",
              "      <td>6.799479</td>\n",
              "    </tr>\n",
              "    <tr>\n",
              "      <th>2</th>\n",
              "      <td>United States</td>\n",
              "      <td>USA</td>\n",
              "      <td>1991</td>\n",
              "      <td>38.2</td>\n",
              "      <td>5.685014</td>\n",
              "    </tr>\n",
              "    <tr>\n",
              "      <th>3</th>\n",
              "      <td>United States</td>\n",
              "      <td>USA</td>\n",
              "      <td>1994</td>\n",
              "      <td>40.2</td>\n",
              "      <td>4.206329</td>\n",
              "    </tr>\n",
              "    <tr>\n",
              "      <th>4</th>\n",
              "      <td>United States</td>\n",
              "      <td>USA</td>\n",
              "      <td>1997</td>\n",
              "      <td>40.8</td>\n",
              "      <td>5.461507</td>\n",
              "    </tr>\n",
              "    <tr>\n",
              "      <th>5</th>\n",
              "      <td>United States</td>\n",
              "      <td>USA</td>\n",
              "      <td>2000</td>\n",
              "      <td>40.4</td>\n",
              "      <td>6.237432</td>\n",
              "    </tr>\n",
              "    <tr>\n",
              "      <th>6</th>\n",
              "      <td>United States</td>\n",
              "      <td>USA</td>\n",
              "      <td>2004</td>\n",
              "      <td>40.5</td>\n",
              "      <td>1.350328</td>\n",
              "    </tr>\n",
              "    <tr>\n",
              "      <th>7</th>\n",
              "      <td>United States</td>\n",
              "      <td>USA</td>\n",
              "      <td>2007</td>\n",
              "      <td>41.1</td>\n",
              "      <td>5.017315</td>\n",
              "    </tr>\n",
              "    <tr>\n",
              "      <th>8</th>\n",
              "      <td>United States</td>\n",
              "      <td>USA</td>\n",
              "      <td>2010</td>\n",
              "      <td>40.4</td>\n",
              "      <td>0.176247</td>\n",
              "    </tr>\n",
              "    <tr>\n",
              "      <th>9</th>\n",
              "      <td>United States</td>\n",
              "      <td>USA</td>\n",
              "      <td>2013</td>\n",
              "      <td>41.0</td>\n",
              "      <td>0.107342</td>\n",
              "    </tr>\n",
              "    <tr>\n",
              "      <th>10</th>\n",
              "      <td>United States</td>\n",
              "      <td>USA</td>\n",
              "      <td>2016</td>\n",
              "      <td>41.5</td>\n",
              "      <td>0.393197</td>\n",
              "    </tr>\n",
              "  </tbody>\n",
              "</table>\n",
              "</div>"
            ],
            "text/plain": [
              "          Country Code  Year  Gini      value\n",
              "0   United States  USA  1979  34.6  11.202795\n",
              "1   United States  USA  1986  37.5   6.799479\n",
              "2   United States  USA  1991  38.2   5.685014\n",
              "3   United States  USA  1994  40.2   4.206329\n",
              "4   United States  USA  1997  40.8   5.461507\n",
              "5   United States  USA  2000  40.4   6.237432\n",
              "6   United States  USA  2004  40.5   1.350328\n",
              "7   United States  USA  2007  41.1   5.017315\n",
              "8   United States  USA  2010  40.4   0.176247\n",
              "9   United States  USA  2013  41.0   0.107342\n",
              "10  United States  USA  2016  41.5   0.393197"
            ]
          },
          "metadata": {
            "tags": []
          },
          "execution_count": 160
        }
      ]
    },
    {
      "cell_type": "code",
      "metadata": {
        "colab": {
          "base_uri": "https://localhost:8080/"
        },
        "id": "Cn1guOVA3r7O",
        "outputId": "b0dd96e8-2e9a-46de-8928-f200115a565a"
      },
      "source": [
        "#checking for nulls\r\n",
        "df_usa1.head()\r\n",
        "df_usa1.rename(columns=lambda x: x.strip(), inplace = True)\r\n",
        "df_usa1.rename(columns = {'value': 'FedFunds'}, inplace=True)\r\n",
        "df_usa1.isnull().sum()\r\n",
        "df_usa1.shape"
      ],
      "execution_count": 161,
      "outputs": [
        {
          "output_type": "execute_result",
          "data": {
            "text/plain": [
              "(11, 5)"
            ]
          },
          "metadata": {
            "tags": []
          },
          "execution_count": 161
        }
      ]
    },
    {
      "cell_type": "code",
      "metadata": {
        "colab": {
          "base_uri": "https://localhost:8080/",
          "height": 837
        },
        "id": "1YOVa9bh5JaF",
        "outputId": "311902f6-48d3-40d7-8cb9-11cca0a5eec0"
      },
      "source": [
        "import seaborn as sns\r\n",
        "sns.lmplot(x = 'FedFunds', y = 'Gini', data = df_usa1)\r\n",
        "\r\n",
        "from statsmodels.formula.api import ols\r\n",
        "\r\n",
        "model = ols('Gini ~ FedFunds', data = df_usa1).fit()\r\n",
        "print(model.summary())\r\n"
      ],
      "execution_count": 162,
      "outputs": [
        {
          "output_type": "stream",
          "text": [
            "                            OLS Regression Results                            \n",
            "==============================================================================\n",
            "Dep. Variable:                   Gini   R-squared:                       0.628\n",
            "Model:                            OLS   Adj. R-squared:                  0.587\n",
            "Method:                 Least Squares   F-statistic:                     15.20\n",
            "Date:                Wed, 24 Feb 2021   Prob (F-statistic):            0.00363\n",
            "Time:                        08:08:42   Log-Likelihood:                -17.672\n",
            "No. Observations:                  11   AIC:                             39.34\n",
            "Df Residuals:                       9   BIC:                             40.14\n",
            "Df Model:                           1                                         \n",
            "Covariance Type:            nonrobust                                         \n",
            "==============================================================================\n",
            "                 coef    std err          t      P>|t|      [0.025      0.975]\n",
            "------------------------------------------------------------------------------\n",
            "Intercept     41.6675      0.654     63.670      0.000      40.187      43.148\n",
            "FedFunds      -0.4748      0.122     -3.899      0.004      -0.750      -0.199\n",
            "==============================================================================\n",
            "Omnibus:                        1.812   Durbin-Watson:                   1.495\n",
            "Prob(Omnibus):                  0.404   Jarque-Bera (JB):                0.994\n",
            "Skew:                           0.386   Prob(JB):                        0.608\n",
            "Kurtosis:                       1.746   Cond. No.                         8.94\n",
            "==============================================================================\n",
            "\n",
            "Warnings:\n",
            "[1] Standard Errors assume that the covariance matrix of the errors is correctly specified.\n"
          ],
          "name": "stdout"
        },
        {
          "output_type": "stream",
          "text": [
            "/usr/local/lib/python3.7/dist-packages/scipy/stats/stats.py:1535: UserWarning: kurtosistest only valid for n>=20 ... continuing anyway, n=11\n",
            "  \"anyway, n=%i\" % int(n))\n"
          ],
          "name": "stderr"
        },
        {
          "output_type": "display_data",
          "data": {
            "image/png": "[encoded data removed]",
            "text/plain": [
              "<Figure size 360x360 with 1 Axes>"
            ]
          },
          "metadata": {
            "tags": [],
            "needs_background": "light"
          }
        }
      ]
    },
    {
      "cell_type": "markdown",
      "metadata": {
        "id": "g1x85PX3Db5Y"
      },
      "source": [
        "Intervals that are very wide (e.g. 0.50 to 1.10) indicate that we have little knowledge about the effect, and that further information is needed.  Effect size is uncertain"
      ]
    },
    {
      "cell_type": "code",
      "metadata": {
        "colab": {
          "base_uri": "https://localhost:8080/"
        },
        "id": "5pguP6oUDlaK",
        "outputId": "2c714a7c-0139-40c4-b274-a0cdd2078d4c"
      },
      "source": [
        "file3 = 'h02arclean.xlsx'\r\n",
        "\r\n",
        "df_income = pd.read_excel(file3)\r\n",
        "\r\n",
        "df_income = df_income.rename(columns = df_income.iloc[0]).drop(df_income.index[0])\r\n",
        "df_income.head()\r\n",
        "df_income['Year'] = pd.DatetimeIndex(df_income['Year'])\r\n",
        "df_income.dtypes\r\n",
        "\r\n"
      ],
      "execution_count": 178,
      "outputs": [
        {
          "output_type": "execute_result",
          "data": {
            "text/plain": [
              " value    float64\n",
              "dtype: object"
            ]
          },
          "metadata": {
            "tags": []
          },
          "execution_count": 178
        }
      ]
    }
  ]
}